{
 "cells": [
  {
   "cell_type": "markdown",
   "metadata": {
    "toc": true
   },
   "source": [
    "<h1>Содержание<span class=\"tocSkip\"></span></h1>\n",
    "<div class=\"toc\"><ul class=\"toc-item\"><li><span><a href=\"#Подготовка-данных\" data-toc-modified-id=\"Подготовка-данных-1\"><span class=\"toc-item-num\">1&nbsp;&nbsp;</span>Подготовка данных</a></span></li><li><span><a href=\"#Анализ-данных\" data-toc-modified-id=\"Анализ-данных-2\"><span class=\"toc-item-num\">2&nbsp;&nbsp;</span>Анализ данных</a></span></li><li><span><a href=\"#Модель\" data-toc-modified-id=\"Модель-3\"><span class=\"toc-item-num\">3&nbsp;&nbsp;</span>Модель</a></span></li><li><span><a href=\"#Чек-лист-готовности-проекта\" data-toc-modified-id=\"Чек-лист-готовности-проекта-4\"><span class=\"toc-item-num\">4&nbsp;&nbsp;</span>Чек-лист готовности проекта</a></span></li></ul></div>"
   ]
  },
  {
   "cell_type": "markdown",
   "metadata": {},
   "source": [
    "# Восстановление золота из руды"
   ]
  },
  {
   "cell_type": "markdown",
   "metadata": {},
   "source": [
    "Подготовьте прототип модели машинного обучения для «Цифры». Компания разрабатывает решения для эффективной работы промышленных предприятий.\n",
    "\n",
    "Модель должна предсказать коэффициент восстановления золота из золотосодержащей руды. Используйте данные с параметрами добычи и очистки. \n",
    "\n",
    "Модель поможет оптимизировать производство, чтобы не запускать предприятие с убыточными характеристиками.\n",
    "\n",
    "Вам нужно:\n",
    "\n",
    "1. Подготовить данные;\n",
    "2. Провести исследовательский анализ данных;\n",
    "3. Построить и обучить модель.\n",
    "\n",
    "Чтобы выполнить проект, обращайтесь к библиотекам *pandas*, *matplotlib* и *sklearn.* Вам поможет их документация."
   ]
  },
  {
   "cell_type": "markdown",
   "metadata": {},
   "source": [
    "## Подготовка данных"
   ]
  },
  {
   "cell_type": "code",
   "execution_count": 1,
   "metadata": {},
   "outputs": [],
   "source": [
    "import pandas as pd\n",
    "import numpy as np\n",
    "from matplotlib import pyplot as plt\n",
    "from IPython.display import display\n",
    "from sklearn.metrics import mean_absolute_error\n",
    "from sklearn.model_selection import cross_val_score\n",
    "from sklearn.linear_model import LinearRegression\n",
    "from sklearn.model_selection import train_test_split\n",
    "from sklearn.metrics import r2_score\n",
    "from sklearn.preprocessing import PolynomialFeatures\n",
    "from sklearn.linear_model import Ridge\n",
    "from sklearn.tree import DecisionTreeRegressor\n",
    "from sklearn.ensemble import ExtraTreesRegressor\n",
    "from sklearn.model_selection import cross_val_score\n",
    "from sklearn.model_selection import GridSearchCV\n",
    "from sklearn.pipeline import Pipeline"
   ]
  },
  {
   "cell_type": "code",
   "execution_count": 2,
   "metadata": {},
   "outputs": [],
   "source": [
    "train=pd.read_csv(\"/datasets/gold_recovery_train_new.csv\")\n",
    "test=pd.read_csv(\"/datasets/gold_recovery_test_new.csv\")\n",
    "data=pd.read_csv(\"/datasets/gold_recovery_full_new.csv\")"
   ]
  },
  {
   "cell_type": "code",
   "execution_count": 3,
   "metadata": {
    "scrolled": true
   },
   "outputs": [
    {
     "name": "stdout",
     "output_type": "stream",
     "text": [
      "<class 'pandas.core.frame.DataFrame'>\n",
      "RangeIndex: 19439 entries, 0 to 19438\n",
      "Data columns (total 87 columns):\n",
      "date                                                  19439 non-null object\n",
      "final.output.concentrate_ag                           19438 non-null float64\n",
      "final.output.concentrate_pb                           19438 non-null float64\n",
      "final.output.concentrate_sol                          19228 non-null float64\n",
      "final.output.concentrate_au                           19439 non-null float64\n",
      "final.output.recovery                                 19439 non-null float64\n",
      "final.output.tail_ag                                  19438 non-null float64\n",
      "final.output.tail_pb                                  19338 non-null float64\n",
      "final.output.tail_sol                                 19433 non-null float64\n",
      "final.output.tail_au                                  19439 non-null float64\n",
      "primary_cleaner.input.sulfate                         19415 non-null float64\n",
      "primary_cleaner.input.depressant                      19402 non-null float64\n",
      "primary_cleaner.input.feed_size                       19439 non-null float64\n",
      "primary_cleaner.input.xanthate                        19335 non-null float64\n",
      "primary_cleaner.output.concentrate_ag                 19439 non-null float64\n",
      "primary_cleaner.output.concentrate_pb                 19323 non-null float64\n",
      "primary_cleaner.output.concentrate_sol                19069 non-null float64\n",
      "primary_cleaner.output.concentrate_au                 19439 non-null float64\n",
      "primary_cleaner.output.tail_ag                        19435 non-null float64\n",
      "primary_cleaner.output.tail_pb                        19418 non-null float64\n",
      "primary_cleaner.output.tail_sol                       19377 non-null float64\n",
      "primary_cleaner.output.tail_au                        19439 non-null float64\n",
      "primary_cleaner.state.floatbank8_a_air                19435 non-null float64\n",
      "primary_cleaner.state.floatbank8_a_level              19438 non-null float64\n",
      "primary_cleaner.state.floatbank8_b_air                19435 non-null float64\n",
      "primary_cleaner.state.floatbank8_b_level              19438 non-null float64\n",
      "primary_cleaner.state.floatbank8_c_air                19437 non-null float64\n",
      "primary_cleaner.state.floatbank8_c_level              19438 non-null float64\n",
      "primary_cleaner.state.floatbank8_d_air                19436 non-null float64\n",
      "primary_cleaner.state.floatbank8_d_level              19438 non-null float64\n",
      "rougher.calculation.sulfate_to_au_concentrate         19437 non-null float64\n",
      "rougher.calculation.floatbank10_sulfate_to_au_feed    19437 non-null float64\n",
      "rougher.calculation.floatbank11_sulfate_to_au_feed    19437 non-null float64\n",
      "rougher.calculation.au_pb_ratio                       19439 non-null float64\n",
      "rougher.input.feed_ag                                 19439 non-null float64\n",
      "rougher.input.feed_pb                                 19339 non-null float64\n",
      "rougher.input.feed_rate                               19428 non-null float64\n",
      "rougher.input.feed_size                               19294 non-null float64\n",
      "rougher.input.feed_sol                                19340 non-null float64\n",
      "rougher.input.feed_au                                 19439 non-null float64\n",
      "rougher.input.floatbank10_sulfate                     19405 non-null float64\n",
      "rougher.input.floatbank10_xanthate                    19431 non-null float64\n",
      "rougher.input.floatbank11_sulfate                     19395 non-null float64\n",
      "rougher.input.floatbank11_xanthate                    18986 non-null float64\n",
      "rougher.output.concentrate_ag                         19439 non-null float64\n",
      "rougher.output.concentrate_pb                         19439 non-null float64\n",
      "rougher.output.concentrate_sol                        19416 non-null float64\n",
      "rougher.output.concentrate_au                         19439 non-null float64\n",
      "rougher.output.recovery                               19439 non-null float64\n",
      "rougher.output.tail_ag                                19438 non-null float64\n",
      "rougher.output.tail_pb                                19439 non-null float64\n",
      "rougher.output.tail_sol                               19439 non-null float64\n",
      "rougher.output.tail_au                                19439 non-null float64\n",
      "rougher.state.floatbank10_a_air                       19438 non-null float64\n",
      "rougher.state.floatbank10_a_level                     19438 non-null float64\n",
      "rougher.state.floatbank10_b_air                       19438 non-null float64\n",
      "rougher.state.floatbank10_b_level                     19438 non-null float64\n",
      "rougher.state.floatbank10_c_air                       19438 non-null float64\n",
      "rougher.state.floatbank10_c_level                     19438 non-null float64\n",
      "rougher.state.floatbank10_d_air                       19439 non-null float64\n",
      "rougher.state.floatbank10_d_level                     19439 non-null float64\n",
      "rougher.state.floatbank10_e_air                       19003 non-null float64\n",
      "rougher.state.floatbank10_e_level                     19439 non-null float64\n",
      "rougher.state.floatbank10_f_air                       19439 non-null float64\n",
      "rougher.state.floatbank10_f_level                     19439 non-null float64\n",
      "secondary_cleaner.output.tail_ag                      19437 non-null float64\n",
      "secondary_cleaner.output.tail_pb                      19427 non-null float64\n",
      "secondary_cleaner.output.tail_sol                     17691 non-null float64\n",
      "secondary_cleaner.output.tail_au                      19439 non-null float64\n",
      "secondary_cleaner.state.floatbank2_a_air              19219 non-null float64\n",
      "secondary_cleaner.state.floatbank2_a_level            19438 non-null float64\n",
      "secondary_cleaner.state.floatbank2_b_air              19416 non-null float64\n",
      "secondary_cleaner.state.floatbank2_b_level            19438 non-null float64\n",
      "secondary_cleaner.state.floatbank3_a_air              19426 non-null float64\n",
      "secondary_cleaner.state.floatbank3_a_level            19438 non-null float64\n",
      "secondary_cleaner.state.floatbank3_b_air              19438 non-null float64\n",
      "secondary_cleaner.state.floatbank3_b_level            19438 non-null float64\n",
      "secondary_cleaner.state.floatbank4_a_air              19433 non-null float64\n",
      "secondary_cleaner.state.floatbank4_a_level            19438 non-null float64\n",
      "secondary_cleaner.state.floatbank4_b_air              19438 non-null float64\n",
      "secondary_cleaner.state.floatbank4_b_level            19438 non-null float64\n",
      "secondary_cleaner.state.floatbank5_a_air              19438 non-null float64\n",
      "secondary_cleaner.state.floatbank5_a_level            19438 non-null float64\n",
      "secondary_cleaner.state.floatbank5_b_air              19438 non-null float64\n",
      "secondary_cleaner.state.floatbank5_b_level            19438 non-null float64\n",
      "secondary_cleaner.state.floatbank6_a_air              19437 non-null float64\n",
      "secondary_cleaner.state.floatbank6_a_level            19438 non-null float64\n",
      "dtypes: float64(86), object(1)\n",
      "memory usage: 12.9+ MB\n"
     ]
    },
    {
     "data": {
      "text/plain": [
       "None"
      ]
     },
     "metadata": {},
     "output_type": "display_data"
    },
    {
     "name": "stdout",
     "output_type": "stream",
     "text": [
      "<class 'pandas.core.frame.DataFrame'>\n",
      "RangeIndex: 14149 entries, 0 to 14148\n",
      "Data columns (total 87 columns):\n",
      "date                                                  14149 non-null object\n",
      "final.output.concentrate_ag                           14148 non-null float64\n",
      "final.output.concentrate_pb                           14148 non-null float64\n",
      "final.output.concentrate_sol                          13938 non-null float64\n",
      "final.output.concentrate_au                           14149 non-null float64\n",
      "final.output.recovery                                 14149 non-null float64\n",
      "final.output.tail_ag                                  14149 non-null float64\n",
      "final.output.tail_pb                                  14049 non-null float64\n",
      "final.output.tail_sol                                 14144 non-null float64\n",
      "final.output.tail_au                                  14149 non-null float64\n",
      "primary_cleaner.input.sulfate                         14129 non-null float64\n",
      "primary_cleaner.input.depressant                      14117 non-null float64\n",
      "primary_cleaner.input.feed_size                       14149 non-null float64\n",
      "primary_cleaner.input.xanthate                        14049 non-null float64\n",
      "primary_cleaner.output.concentrate_ag                 14149 non-null float64\n",
      "primary_cleaner.output.concentrate_pb                 14063 non-null float64\n",
      "primary_cleaner.output.concentrate_sol                13863 non-null float64\n",
      "primary_cleaner.output.concentrate_au                 14149 non-null float64\n",
      "primary_cleaner.output.tail_ag                        14148 non-null float64\n",
      "primary_cleaner.output.tail_pb                        14134 non-null float64\n",
      "primary_cleaner.output.tail_sol                       14103 non-null float64\n",
      "primary_cleaner.output.tail_au                        14149 non-null float64\n",
      "primary_cleaner.state.floatbank8_a_air                14145 non-null float64\n",
      "primary_cleaner.state.floatbank8_a_level              14148 non-null float64\n",
      "primary_cleaner.state.floatbank8_b_air                14145 non-null float64\n",
      "primary_cleaner.state.floatbank8_b_level              14148 non-null float64\n",
      "primary_cleaner.state.floatbank8_c_air                14147 non-null float64\n",
      "primary_cleaner.state.floatbank8_c_level              14148 non-null float64\n",
      "primary_cleaner.state.floatbank8_d_air                14146 non-null float64\n",
      "primary_cleaner.state.floatbank8_d_level              14148 non-null float64\n",
      "rougher.calculation.sulfate_to_au_concentrate         14148 non-null float64\n",
      "rougher.calculation.floatbank10_sulfate_to_au_feed    14148 non-null float64\n",
      "rougher.calculation.floatbank11_sulfate_to_au_feed    14148 non-null float64\n",
      "rougher.calculation.au_pb_ratio                       14149 non-null float64\n",
      "rougher.input.feed_ag                                 14149 non-null float64\n",
      "rougher.input.feed_pb                                 14049 non-null float64\n",
      "rougher.input.feed_rate                               14141 non-null float64\n",
      "rougher.input.feed_size                               14005 non-null float64\n",
      "rougher.input.feed_sol                                14071 non-null float64\n",
      "rougher.input.feed_au                                 14149 non-null float64\n",
      "rougher.input.floatbank10_sulfate                     14120 non-null float64\n",
      "rougher.input.floatbank10_xanthate                    14141 non-null float64\n",
      "rougher.input.floatbank11_sulfate                     14113 non-null float64\n",
      "rougher.input.floatbank11_xanthate                    13721 non-null float64\n",
      "rougher.output.concentrate_ag                         14149 non-null float64\n",
      "rougher.output.concentrate_pb                         14149 non-null float64\n",
      "rougher.output.concentrate_sol                        14127 non-null float64\n",
      "rougher.output.concentrate_au                         14149 non-null float64\n",
      "rougher.output.recovery                               14149 non-null float64\n",
      "rougher.output.tail_ag                                14148 non-null float64\n",
      "rougher.output.tail_pb                                14149 non-null float64\n",
      "rougher.output.tail_sol                               14149 non-null float64\n",
      "rougher.output.tail_au                                14149 non-null float64\n",
      "rougher.state.floatbank10_a_air                       14148 non-null float64\n",
      "rougher.state.floatbank10_a_level                     14148 non-null float64\n",
      "rougher.state.floatbank10_b_air                       14148 non-null float64\n",
      "rougher.state.floatbank10_b_level                     14148 non-null float64\n",
      "rougher.state.floatbank10_c_air                       14148 non-null float64\n",
      "rougher.state.floatbank10_c_level                     14148 non-null float64\n",
      "rougher.state.floatbank10_d_air                       14149 non-null float64\n",
      "rougher.state.floatbank10_d_level                     14149 non-null float64\n",
      "rougher.state.floatbank10_e_air                       13713 non-null float64\n",
      "rougher.state.floatbank10_e_level                     14149 non-null float64\n",
      "rougher.state.floatbank10_f_air                       14149 non-null float64\n",
      "rougher.state.floatbank10_f_level                     14149 non-null float64\n",
      "secondary_cleaner.output.tail_ag                      14147 non-null float64\n",
      "secondary_cleaner.output.tail_pb                      14139 non-null float64\n",
      "secondary_cleaner.output.tail_sol                     12544 non-null float64\n",
      "secondary_cleaner.output.tail_au                      14149 non-null float64\n",
      "secondary_cleaner.state.floatbank2_a_air              13932 non-null float64\n",
      "secondary_cleaner.state.floatbank2_a_level            14148 non-null float64\n",
      "secondary_cleaner.state.floatbank2_b_air              14128 non-null float64\n",
      "secondary_cleaner.state.floatbank2_b_level            14148 non-null float64\n",
      "secondary_cleaner.state.floatbank3_a_air              14145 non-null float64\n",
      "secondary_cleaner.state.floatbank3_a_level            14148 non-null float64\n",
      "secondary_cleaner.state.floatbank3_b_air              14148 non-null float64\n",
      "secondary_cleaner.state.floatbank3_b_level            14148 non-null float64\n",
      "secondary_cleaner.state.floatbank4_a_air              14143 non-null float64\n",
      "secondary_cleaner.state.floatbank4_a_level            14148 non-null float64\n",
      "secondary_cleaner.state.floatbank4_b_air              14148 non-null float64\n",
      "secondary_cleaner.state.floatbank4_b_level            14148 non-null float64\n",
      "secondary_cleaner.state.floatbank5_a_air              14148 non-null float64\n",
      "secondary_cleaner.state.floatbank5_a_level            14148 non-null float64\n",
      "secondary_cleaner.state.floatbank5_b_air              14148 non-null float64\n",
      "secondary_cleaner.state.floatbank5_b_level            14148 non-null float64\n",
      "secondary_cleaner.state.floatbank6_a_air              14147 non-null float64\n",
      "secondary_cleaner.state.floatbank6_a_level            14148 non-null float64\n",
      "dtypes: float64(86), object(1)\n",
      "memory usage: 9.4+ MB\n"
     ]
    },
    {
     "data": {
      "text/plain": [
       "None"
      ]
     },
     "metadata": {},
     "output_type": "display_data"
    },
    {
     "name": "stdout",
     "output_type": "stream",
     "text": [
      "<class 'pandas.core.frame.DataFrame'>\n",
      "RangeIndex: 5290 entries, 0 to 5289\n",
      "Data columns (total 53 columns):\n",
      "date                                          5290 non-null object\n",
      "primary_cleaner.input.sulfate                 5286 non-null float64\n",
      "primary_cleaner.input.depressant              5285 non-null float64\n",
      "primary_cleaner.input.feed_size               5290 non-null float64\n",
      "primary_cleaner.input.xanthate                5286 non-null float64\n",
      "primary_cleaner.state.floatbank8_a_air        5290 non-null float64\n",
      "primary_cleaner.state.floatbank8_a_level      5290 non-null float64\n",
      "primary_cleaner.state.floatbank8_b_air        5290 non-null float64\n",
      "primary_cleaner.state.floatbank8_b_level      5290 non-null float64\n",
      "primary_cleaner.state.floatbank8_c_air        5290 non-null float64\n",
      "primary_cleaner.state.floatbank8_c_level      5290 non-null float64\n",
      "primary_cleaner.state.floatbank8_d_air        5290 non-null float64\n",
      "primary_cleaner.state.floatbank8_d_level      5290 non-null float64\n",
      "rougher.input.feed_ag                         5290 non-null float64\n",
      "rougher.input.feed_pb                         5290 non-null float64\n",
      "rougher.input.feed_rate                       5287 non-null float64\n",
      "rougher.input.feed_size                       5289 non-null float64\n",
      "rougher.input.feed_sol                        5269 non-null float64\n",
      "rougher.input.feed_au                         5290 non-null float64\n",
      "rougher.input.floatbank10_sulfate             5285 non-null float64\n",
      "rougher.input.floatbank10_xanthate            5290 non-null float64\n",
      "rougher.input.floatbank11_sulfate             5282 non-null float64\n",
      "rougher.input.floatbank11_xanthate            5265 non-null float64\n",
      "rougher.state.floatbank10_a_air               5290 non-null float64\n",
      "rougher.state.floatbank10_a_level             5290 non-null float64\n",
      "rougher.state.floatbank10_b_air               5290 non-null float64\n",
      "rougher.state.floatbank10_b_level             5290 non-null float64\n",
      "rougher.state.floatbank10_c_air               5290 non-null float64\n",
      "rougher.state.floatbank10_c_level             5290 non-null float64\n",
      "rougher.state.floatbank10_d_air               5290 non-null float64\n",
      "rougher.state.floatbank10_d_level             5290 non-null float64\n",
      "rougher.state.floatbank10_e_air               5290 non-null float64\n",
      "rougher.state.floatbank10_e_level             5290 non-null float64\n",
      "rougher.state.floatbank10_f_air               5290 non-null float64\n",
      "rougher.state.floatbank10_f_level             5290 non-null float64\n",
      "secondary_cleaner.state.floatbank2_a_air      5287 non-null float64\n",
      "secondary_cleaner.state.floatbank2_a_level    5290 non-null float64\n",
      "secondary_cleaner.state.floatbank2_b_air      5288 non-null float64\n",
      "secondary_cleaner.state.floatbank2_b_level    5290 non-null float64\n",
      "secondary_cleaner.state.floatbank3_a_air      5281 non-null float64\n",
      "secondary_cleaner.state.floatbank3_a_level    5290 non-null float64\n",
      "secondary_cleaner.state.floatbank3_b_air      5290 non-null float64\n",
      "secondary_cleaner.state.floatbank3_b_level    5290 non-null float64\n",
      "secondary_cleaner.state.floatbank4_a_air      5290 non-null float64\n",
      "secondary_cleaner.state.floatbank4_a_level    5290 non-null float64\n",
      "secondary_cleaner.state.floatbank4_b_air      5290 non-null float64\n",
      "secondary_cleaner.state.floatbank4_b_level    5290 non-null float64\n",
      "secondary_cleaner.state.floatbank5_a_air      5290 non-null float64\n",
      "secondary_cleaner.state.floatbank5_a_level    5290 non-null float64\n",
      "secondary_cleaner.state.floatbank5_b_air      5290 non-null float64\n",
      "secondary_cleaner.state.floatbank5_b_level    5290 non-null float64\n",
      "secondary_cleaner.state.floatbank6_a_air      5290 non-null float64\n",
      "secondary_cleaner.state.floatbank6_a_level    5290 non-null float64\n",
      "dtypes: float64(52), object(1)\n",
      "memory usage: 2.1+ MB\n"
     ]
    },
    {
     "data": {
      "text/plain": [
       "None"
      ]
     },
     "metadata": {},
     "output_type": "display_data"
    }
   ],
   "source": [
    "display(data.info())\n",
    "display(train.info())\n",
    "display(test.info())\n"
   ]
  },
  {
   "cell_type": "code",
   "execution_count": 4,
   "metadata": {},
   "outputs": [
    {
     "data": {
      "text/html": [
       "<div>\n",
       "<style scoped>\n",
       "    .dataframe tbody tr th:only-of-type {\n",
       "        vertical-align: middle;\n",
       "    }\n",
       "\n",
       "    .dataframe tbody tr th {\n",
       "        vertical-align: top;\n",
       "    }\n",
       "\n",
       "    .dataframe thead th {\n",
       "        text-align: right;\n",
       "    }\n",
       "</style>\n",
       "<table border=\"1\" class=\"dataframe\">\n",
       "  <thead>\n",
       "    <tr style=\"text-align: right;\">\n",
       "      <th></th>\n",
       "      <th>date</th>\n",
       "      <th>final.output.concentrate_ag</th>\n",
       "      <th>final.output.concentrate_pb</th>\n",
       "      <th>final.output.concentrate_sol</th>\n",
       "      <th>final.output.concentrate_au</th>\n",
       "      <th>final.output.recovery</th>\n",
       "      <th>final.output.tail_ag</th>\n",
       "      <th>final.output.tail_pb</th>\n",
       "      <th>final.output.tail_sol</th>\n",
       "      <th>final.output.tail_au</th>\n",
       "      <th>...</th>\n",
       "      <th>secondary_cleaner.state.floatbank4_a_air</th>\n",
       "      <th>secondary_cleaner.state.floatbank4_a_level</th>\n",
       "      <th>secondary_cleaner.state.floatbank4_b_air</th>\n",
       "      <th>secondary_cleaner.state.floatbank4_b_level</th>\n",
       "      <th>secondary_cleaner.state.floatbank5_a_air</th>\n",
       "      <th>secondary_cleaner.state.floatbank5_a_level</th>\n",
       "      <th>secondary_cleaner.state.floatbank5_b_air</th>\n",
       "      <th>secondary_cleaner.state.floatbank5_b_level</th>\n",
       "      <th>secondary_cleaner.state.floatbank6_a_air</th>\n",
       "      <th>secondary_cleaner.state.floatbank6_a_level</th>\n",
       "    </tr>\n",
       "  </thead>\n",
       "  <tbody>\n",
       "    <tr>\n",
       "      <td>0</td>\n",
       "      <td>2016-01-15 00:00:00</td>\n",
       "      <td>6.055403</td>\n",
       "      <td>9.889648</td>\n",
       "      <td>5.507324</td>\n",
       "      <td>42.192020</td>\n",
       "      <td>70.541216</td>\n",
       "      <td>10.411962</td>\n",
       "      <td>0.895447</td>\n",
       "      <td>16.904297</td>\n",
       "      <td>2.143149</td>\n",
       "      <td>...</td>\n",
       "      <td>14.016835</td>\n",
       "      <td>-502.488007</td>\n",
       "      <td>12.099931</td>\n",
       "      <td>-504.715942</td>\n",
       "      <td>9.925633</td>\n",
       "      <td>-498.310211</td>\n",
       "      <td>8.079666</td>\n",
       "      <td>-500.470978</td>\n",
       "      <td>14.151341</td>\n",
       "      <td>-605.841980</td>\n",
       "    </tr>\n",
       "    <tr>\n",
       "      <td>1</td>\n",
       "      <td>2016-01-15 01:00:00</td>\n",
       "      <td>6.029369</td>\n",
       "      <td>9.968944</td>\n",
       "      <td>5.257781</td>\n",
       "      <td>42.701629</td>\n",
       "      <td>69.266198</td>\n",
       "      <td>10.462676</td>\n",
       "      <td>0.927452</td>\n",
       "      <td>16.634514</td>\n",
       "      <td>2.224930</td>\n",
       "      <td>...</td>\n",
       "      <td>13.992281</td>\n",
       "      <td>-505.503262</td>\n",
       "      <td>11.950531</td>\n",
       "      <td>-501.331529</td>\n",
       "      <td>10.039245</td>\n",
       "      <td>-500.169983</td>\n",
       "      <td>7.984757</td>\n",
       "      <td>-500.582168</td>\n",
       "      <td>13.998353</td>\n",
       "      <td>-599.787184</td>\n",
       "    </tr>\n",
       "    <tr>\n",
       "      <td>2</td>\n",
       "      <td>2016-01-15 02:00:00</td>\n",
       "      <td>6.055926</td>\n",
       "      <td>10.213995</td>\n",
       "      <td>5.383759</td>\n",
       "      <td>42.657501</td>\n",
       "      <td>68.116445</td>\n",
       "      <td>10.507046</td>\n",
       "      <td>0.953716</td>\n",
       "      <td>16.208849</td>\n",
       "      <td>2.257889</td>\n",
       "      <td>...</td>\n",
       "      <td>14.015015</td>\n",
       "      <td>-502.520901</td>\n",
       "      <td>11.912783</td>\n",
       "      <td>-501.133383</td>\n",
       "      <td>10.070913</td>\n",
       "      <td>-500.129135</td>\n",
       "      <td>8.013877</td>\n",
       "      <td>-500.517572</td>\n",
       "      <td>14.028663</td>\n",
       "      <td>-601.427363</td>\n",
       "    </tr>\n",
       "    <tr>\n",
       "      <td>3</td>\n",
       "      <td>2016-01-15 03:00:00</td>\n",
       "      <td>6.047977</td>\n",
       "      <td>9.977019</td>\n",
       "      <td>4.858634</td>\n",
       "      <td>42.689819</td>\n",
       "      <td>68.347543</td>\n",
       "      <td>10.422762</td>\n",
       "      <td>0.883763</td>\n",
       "      <td>16.532835</td>\n",
       "      <td>2.146849</td>\n",
       "      <td>...</td>\n",
       "      <td>14.036510</td>\n",
       "      <td>-500.857308</td>\n",
       "      <td>11.999550</td>\n",
       "      <td>-501.193686</td>\n",
       "      <td>9.970366</td>\n",
       "      <td>-499.201640</td>\n",
       "      <td>7.977324</td>\n",
       "      <td>-500.255908</td>\n",
       "      <td>14.005551</td>\n",
       "      <td>-599.996129</td>\n",
       "    </tr>\n",
       "    <tr>\n",
       "      <td>4</td>\n",
       "      <td>2016-01-15 04:00:00</td>\n",
       "      <td>6.148599</td>\n",
       "      <td>10.142511</td>\n",
       "      <td>4.939416</td>\n",
       "      <td>42.774141</td>\n",
       "      <td>66.927016</td>\n",
       "      <td>10.360302</td>\n",
       "      <td>0.792826</td>\n",
       "      <td>16.525686</td>\n",
       "      <td>2.055292</td>\n",
       "      <td>...</td>\n",
       "      <td>14.027298</td>\n",
       "      <td>-499.838632</td>\n",
       "      <td>11.953070</td>\n",
       "      <td>-501.053894</td>\n",
       "      <td>9.925709</td>\n",
       "      <td>-501.686727</td>\n",
       "      <td>7.894242</td>\n",
       "      <td>-500.356035</td>\n",
       "      <td>13.996647</td>\n",
       "      <td>-601.496691</td>\n",
       "    </tr>\n",
       "  </tbody>\n",
       "</table>\n",
       "<p>5 rows × 87 columns</p>\n",
       "</div>"
      ],
      "text/plain": [
       "                  date  final.output.concentrate_ag  \\\n",
       "0  2016-01-15 00:00:00                     6.055403   \n",
       "1  2016-01-15 01:00:00                     6.029369   \n",
       "2  2016-01-15 02:00:00                     6.055926   \n",
       "3  2016-01-15 03:00:00                     6.047977   \n",
       "4  2016-01-15 04:00:00                     6.148599   \n",
       "\n",
       "   final.output.concentrate_pb  final.output.concentrate_sol  \\\n",
       "0                     9.889648                      5.507324   \n",
       "1                     9.968944                      5.257781   \n",
       "2                    10.213995                      5.383759   \n",
       "3                     9.977019                      4.858634   \n",
       "4                    10.142511                      4.939416   \n",
       "\n",
       "   final.output.concentrate_au  final.output.recovery  final.output.tail_ag  \\\n",
       "0                    42.192020              70.541216             10.411962   \n",
       "1                    42.701629              69.266198             10.462676   \n",
       "2                    42.657501              68.116445             10.507046   \n",
       "3                    42.689819              68.347543             10.422762   \n",
       "4                    42.774141              66.927016             10.360302   \n",
       "\n",
       "   final.output.tail_pb  final.output.tail_sol  final.output.tail_au  ...  \\\n",
       "0              0.895447              16.904297              2.143149  ...   \n",
       "1              0.927452              16.634514              2.224930  ...   \n",
       "2              0.953716              16.208849              2.257889  ...   \n",
       "3              0.883763              16.532835              2.146849  ...   \n",
       "4              0.792826              16.525686              2.055292  ...   \n",
       "\n",
       "   secondary_cleaner.state.floatbank4_a_air  \\\n",
       "0                                 14.016835   \n",
       "1                                 13.992281   \n",
       "2                                 14.015015   \n",
       "3                                 14.036510   \n",
       "4                                 14.027298   \n",
       "\n",
       "   secondary_cleaner.state.floatbank4_a_level  \\\n",
       "0                                 -502.488007   \n",
       "1                                 -505.503262   \n",
       "2                                 -502.520901   \n",
       "3                                 -500.857308   \n",
       "4                                 -499.838632   \n",
       "\n",
       "   secondary_cleaner.state.floatbank4_b_air  \\\n",
       "0                                 12.099931   \n",
       "1                                 11.950531   \n",
       "2                                 11.912783   \n",
       "3                                 11.999550   \n",
       "4                                 11.953070   \n",
       "\n",
       "   secondary_cleaner.state.floatbank4_b_level  \\\n",
       "0                                 -504.715942   \n",
       "1                                 -501.331529   \n",
       "2                                 -501.133383   \n",
       "3                                 -501.193686   \n",
       "4                                 -501.053894   \n",
       "\n",
       "   secondary_cleaner.state.floatbank5_a_air  \\\n",
       "0                                  9.925633   \n",
       "1                                 10.039245   \n",
       "2                                 10.070913   \n",
       "3                                  9.970366   \n",
       "4                                  9.925709   \n",
       "\n",
       "   secondary_cleaner.state.floatbank5_a_level  \\\n",
       "0                                 -498.310211   \n",
       "1                                 -500.169983   \n",
       "2                                 -500.129135   \n",
       "3                                 -499.201640   \n",
       "4                                 -501.686727   \n",
       "\n",
       "   secondary_cleaner.state.floatbank5_b_air  \\\n",
       "0                                  8.079666   \n",
       "1                                  7.984757   \n",
       "2                                  8.013877   \n",
       "3                                  7.977324   \n",
       "4                                  7.894242   \n",
       "\n",
       "   secondary_cleaner.state.floatbank5_b_level  \\\n",
       "0                                 -500.470978   \n",
       "1                                 -500.582168   \n",
       "2                                 -500.517572   \n",
       "3                                 -500.255908   \n",
       "4                                 -500.356035   \n",
       "\n",
       "   secondary_cleaner.state.floatbank6_a_air  \\\n",
       "0                                 14.151341   \n",
       "1                                 13.998353   \n",
       "2                                 14.028663   \n",
       "3                                 14.005551   \n",
       "4                                 13.996647   \n",
       "\n",
       "   secondary_cleaner.state.floatbank6_a_level  \n",
       "0                                 -605.841980  \n",
       "1                                 -599.787184  \n",
       "2                                 -601.427363  \n",
       "3                                 -599.996129  \n",
       "4                                 -601.496691  \n",
       "\n",
       "[5 rows x 87 columns]"
      ]
     },
     "metadata": {},
     "output_type": "display_data"
    },
    {
     "data": {
      "text/html": [
       "<div>\n",
       "<style scoped>\n",
       "    .dataframe tbody tr th:only-of-type {\n",
       "        vertical-align: middle;\n",
       "    }\n",
       "\n",
       "    .dataframe tbody tr th {\n",
       "        vertical-align: top;\n",
       "    }\n",
       "\n",
       "    .dataframe thead th {\n",
       "        text-align: right;\n",
       "    }\n",
       "</style>\n",
       "<table border=\"1\" class=\"dataframe\">\n",
       "  <thead>\n",
       "    <tr style=\"text-align: right;\">\n",
       "      <th></th>\n",
       "      <th>date</th>\n",
       "      <th>final.output.concentrate_ag</th>\n",
       "      <th>final.output.concentrate_pb</th>\n",
       "      <th>final.output.concentrate_sol</th>\n",
       "      <th>final.output.concentrate_au</th>\n",
       "      <th>final.output.recovery</th>\n",
       "      <th>final.output.tail_ag</th>\n",
       "      <th>final.output.tail_pb</th>\n",
       "      <th>final.output.tail_sol</th>\n",
       "      <th>final.output.tail_au</th>\n",
       "      <th>...</th>\n",
       "      <th>secondary_cleaner.state.floatbank4_a_air</th>\n",
       "      <th>secondary_cleaner.state.floatbank4_a_level</th>\n",
       "      <th>secondary_cleaner.state.floatbank4_b_air</th>\n",
       "      <th>secondary_cleaner.state.floatbank4_b_level</th>\n",
       "      <th>secondary_cleaner.state.floatbank5_a_air</th>\n",
       "      <th>secondary_cleaner.state.floatbank5_a_level</th>\n",
       "      <th>secondary_cleaner.state.floatbank5_b_air</th>\n",
       "      <th>secondary_cleaner.state.floatbank5_b_level</th>\n",
       "      <th>secondary_cleaner.state.floatbank6_a_air</th>\n",
       "      <th>secondary_cleaner.state.floatbank6_a_level</th>\n",
       "    </tr>\n",
       "  </thead>\n",
       "  <tbody>\n",
       "    <tr>\n",
       "      <td>0</td>\n",
       "      <td>2016-01-15 00:00:00</td>\n",
       "      <td>6.055403</td>\n",
       "      <td>9.889648</td>\n",
       "      <td>5.507324</td>\n",
       "      <td>42.192020</td>\n",
       "      <td>70.541216</td>\n",
       "      <td>10.411962</td>\n",
       "      <td>0.895447</td>\n",
       "      <td>16.904297</td>\n",
       "      <td>2.143149</td>\n",
       "      <td>...</td>\n",
       "      <td>14.016835</td>\n",
       "      <td>-502.488007</td>\n",
       "      <td>12.099931</td>\n",
       "      <td>-504.715942</td>\n",
       "      <td>9.925633</td>\n",
       "      <td>-498.310211</td>\n",
       "      <td>8.079666</td>\n",
       "      <td>-500.470978</td>\n",
       "      <td>14.151341</td>\n",
       "      <td>-605.841980</td>\n",
       "    </tr>\n",
       "    <tr>\n",
       "      <td>1</td>\n",
       "      <td>2016-01-15 01:00:00</td>\n",
       "      <td>6.029369</td>\n",
       "      <td>9.968944</td>\n",
       "      <td>5.257781</td>\n",
       "      <td>42.701629</td>\n",
       "      <td>69.266198</td>\n",
       "      <td>10.462676</td>\n",
       "      <td>0.927452</td>\n",
       "      <td>16.634514</td>\n",
       "      <td>2.224930</td>\n",
       "      <td>...</td>\n",
       "      <td>13.992281</td>\n",
       "      <td>-505.503262</td>\n",
       "      <td>11.950531</td>\n",
       "      <td>-501.331529</td>\n",
       "      <td>10.039245</td>\n",
       "      <td>-500.169983</td>\n",
       "      <td>7.984757</td>\n",
       "      <td>-500.582168</td>\n",
       "      <td>13.998353</td>\n",
       "      <td>-599.787184</td>\n",
       "    </tr>\n",
       "    <tr>\n",
       "      <td>2</td>\n",
       "      <td>2016-01-15 02:00:00</td>\n",
       "      <td>6.055926</td>\n",
       "      <td>10.213995</td>\n",
       "      <td>5.383759</td>\n",
       "      <td>42.657501</td>\n",
       "      <td>68.116445</td>\n",
       "      <td>10.507046</td>\n",
       "      <td>0.953716</td>\n",
       "      <td>16.208849</td>\n",
       "      <td>2.257889</td>\n",
       "      <td>...</td>\n",
       "      <td>14.015015</td>\n",
       "      <td>-502.520901</td>\n",
       "      <td>11.912783</td>\n",
       "      <td>-501.133383</td>\n",
       "      <td>10.070913</td>\n",
       "      <td>-500.129135</td>\n",
       "      <td>8.013877</td>\n",
       "      <td>-500.517572</td>\n",
       "      <td>14.028663</td>\n",
       "      <td>-601.427363</td>\n",
       "    </tr>\n",
       "    <tr>\n",
       "      <td>3</td>\n",
       "      <td>2016-01-15 03:00:00</td>\n",
       "      <td>6.047977</td>\n",
       "      <td>9.977019</td>\n",
       "      <td>4.858634</td>\n",
       "      <td>42.689819</td>\n",
       "      <td>68.347543</td>\n",
       "      <td>10.422762</td>\n",
       "      <td>0.883763</td>\n",
       "      <td>16.532835</td>\n",
       "      <td>2.146849</td>\n",
       "      <td>...</td>\n",
       "      <td>14.036510</td>\n",
       "      <td>-500.857308</td>\n",
       "      <td>11.999550</td>\n",
       "      <td>-501.193686</td>\n",
       "      <td>9.970366</td>\n",
       "      <td>-499.201640</td>\n",
       "      <td>7.977324</td>\n",
       "      <td>-500.255908</td>\n",
       "      <td>14.005551</td>\n",
       "      <td>-599.996129</td>\n",
       "    </tr>\n",
       "    <tr>\n",
       "      <td>4</td>\n",
       "      <td>2016-01-15 04:00:00</td>\n",
       "      <td>6.148599</td>\n",
       "      <td>10.142511</td>\n",
       "      <td>4.939416</td>\n",
       "      <td>42.774141</td>\n",
       "      <td>66.927016</td>\n",
       "      <td>10.360302</td>\n",
       "      <td>0.792826</td>\n",
       "      <td>16.525686</td>\n",
       "      <td>2.055292</td>\n",
       "      <td>...</td>\n",
       "      <td>14.027298</td>\n",
       "      <td>-499.838632</td>\n",
       "      <td>11.953070</td>\n",
       "      <td>-501.053894</td>\n",
       "      <td>9.925709</td>\n",
       "      <td>-501.686727</td>\n",
       "      <td>7.894242</td>\n",
       "      <td>-500.356035</td>\n",
       "      <td>13.996647</td>\n",
       "      <td>-601.496691</td>\n",
       "    </tr>\n",
       "  </tbody>\n",
       "</table>\n",
       "<p>5 rows × 87 columns</p>\n",
       "</div>"
      ],
      "text/plain": [
       "                  date  final.output.concentrate_ag  \\\n",
       "0  2016-01-15 00:00:00                     6.055403   \n",
       "1  2016-01-15 01:00:00                     6.029369   \n",
       "2  2016-01-15 02:00:00                     6.055926   \n",
       "3  2016-01-15 03:00:00                     6.047977   \n",
       "4  2016-01-15 04:00:00                     6.148599   \n",
       "\n",
       "   final.output.concentrate_pb  final.output.concentrate_sol  \\\n",
       "0                     9.889648                      5.507324   \n",
       "1                     9.968944                      5.257781   \n",
       "2                    10.213995                      5.383759   \n",
       "3                     9.977019                      4.858634   \n",
       "4                    10.142511                      4.939416   \n",
       "\n",
       "   final.output.concentrate_au  final.output.recovery  final.output.tail_ag  \\\n",
       "0                    42.192020              70.541216             10.411962   \n",
       "1                    42.701629              69.266198             10.462676   \n",
       "2                    42.657501              68.116445             10.507046   \n",
       "3                    42.689819              68.347543             10.422762   \n",
       "4                    42.774141              66.927016             10.360302   \n",
       "\n",
       "   final.output.tail_pb  final.output.tail_sol  final.output.tail_au  ...  \\\n",
       "0              0.895447              16.904297              2.143149  ...   \n",
       "1              0.927452              16.634514              2.224930  ...   \n",
       "2              0.953716              16.208849              2.257889  ...   \n",
       "3              0.883763              16.532835              2.146849  ...   \n",
       "4              0.792826              16.525686              2.055292  ...   \n",
       "\n",
       "   secondary_cleaner.state.floatbank4_a_air  \\\n",
       "0                                 14.016835   \n",
       "1                                 13.992281   \n",
       "2                                 14.015015   \n",
       "3                                 14.036510   \n",
       "4                                 14.027298   \n",
       "\n",
       "   secondary_cleaner.state.floatbank4_a_level  \\\n",
       "0                                 -502.488007   \n",
       "1                                 -505.503262   \n",
       "2                                 -502.520901   \n",
       "3                                 -500.857308   \n",
       "4                                 -499.838632   \n",
       "\n",
       "   secondary_cleaner.state.floatbank4_b_air  \\\n",
       "0                                 12.099931   \n",
       "1                                 11.950531   \n",
       "2                                 11.912783   \n",
       "3                                 11.999550   \n",
       "4                                 11.953070   \n",
       "\n",
       "   secondary_cleaner.state.floatbank4_b_level  \\\n",
       "0                                 -504.715942   \n",
       "1                                 -501.331529   \n",
       "2                                 -501.133383   \n",
       "3                                 -501.193686   \n",
       "4                                 -501.053894   \n",
       "\n",
       "   secondary_cleaner.state.floatbank5_a_air  \\\n",
       "0                                  9.925633   \n",
       "1                                 10.039245   \n",
       "2                                 10.070913   \n",
       "3                                  9.970366   \n",
       "4                                  9.925709   \n",
       "\n",
       "   secondary_cleaner.state.floatbank5_a_level  \\\n",
       "0                                 -498.310211   \n",
       "1                                 -500.169983   \n",
       "2                                 -500.129135   \n",
       "3                                 -499.201640   \n",
       "4                                 -501.686727   \n",
       "\n",
       "   secondary_cleaner.state.floatbank5_b_air  \\\n",
       "0                                  8.079666   \n",
       "1                                  7.984757   \n",
       "2                                  8.013877   \n",
       "3                                  7.977324   \n",
       "4                                  7.894242   \n",
       "\n",
       "   secondary_cleaner.state.floatbank5_b_level  \\\n",
       "0                                 -500.470978   \n",
       "1                                 -500.582168   \n",
       "2                                 -500.517572   \n",
       "3                                 -500.255908   \n",
       "4                                 -500.356035   \n",
       "\n",
       "   secondary_cleaner.state.floatbank6_a_air  \\\n",
       "0                                 14.151341   \n",
       "1                                 13.998353   \n",
       "2                                 14.028663   \n",
       "3                                 14.005551   \n",
       "4                                 13.996647   \n",
       "\n",
       "   secondary_cleaner.state.floatbank6_a_level  \n",
       "0                                 -605.841980  \n",
       "1                                 -599.787184  \n",
       "2                                 -601.427363  \n",
       "3                                 -599.996129  \n",
       "4                                 -601.496691  \n",
       "\n",
       "[5 rows x 87 columns]"
      ]
     },
     "metadata": {},
     "output_type": "display_data"
    },
    {
     "data": {
      "text/html": [
       "<div>\n",
       "<style scoped>\n",
       "    .dataframe tbody tr th:only-of-type {\n",
       "        vertical-align: middle;\n",
       "    }\n",
       "\n",
       "    .dataframe tbody tr th {\n",
       "        vertical-align: top;\n",
       "    }\n",
       "\n",
       "    .dataframe thead th {\n",
       "        text-align: right;\n",
       "    }\n",
       "</style>\n",
       "<table border=\"1\" class=\"dataframe\">\n",
       "  <thead>\n",
       "    <tr style=\"text-align: right;\">\n",
       "      <th></th>\n",
       "      <th>date</th>\n",
       "      <th>primary_cleaner.input.sulfate</th>\n",
       "      <th>primary_cleaner.input.depressant</th>\n",
       "      <th>primary_cleaner.input.feed_size</th>\n",
       "      <th>primary_cleaner.input.xanthate</th>\n",
       "      <th>primary_cleaner.state.floatbank8_a_air</th>\n",
       "      <th>primary_cleaner.state.floatbank8_a_level</th>\n",
       "      <th>primary_cleaner.state.floatbank8_b_air</th>\n",
       "      <th>primary_cleaner.state.floatbank8_b_level</th>\n",
       "      <th>primary_cleaner.state.floatbank8_c_air</th>\n",
       "      <th>...</th>\n",
       "      <th>secondary_cleaner.state.floatbank4_a_air</th>\n",
       "      <th>secondary_cleaner.state.floatbank4_a_level</th>\n",
       "      <th>secondary_cleaner.state.floatbank4_b_air</th>\n",
       "      <th>secondary_cleaner.state.floatbank4_b_level</th>\n",
       "      <th>secondary_cleaner.state.floatbank5_a_air</th>\n",
       "      <th>secondary_cleaner.state.floatbank5_a_level</th>\n",
       "      <th>secondary_cleaner.state.floatbank5_b_air</th>\n",
       "      <th>secondary_cleaner.state.floatbank5_b_level</th>\n",
       "      <th>secondary_cleaner.state.floatbank6_a_air</th>\n",
       "      <th>secondary_cleaner.state.floatbank6_a_level</th>\n",
       "    </tr>\n",
       "  </thead>\n",
       "  <tbody>\n",
       "    <tr>\n",
       "      <td>0</td>\n",
       "      <td>2016-09-01 00:59:59</td>\n",
       "      <td>210.800909</td>\n",
       "      <td>14.993118</td>\n",
       "      <td>8.080000</td>\n",
       "      <td>1.005021</td>\n",
       "      <td>1398.981301</td>\n",
       "      <td>-500.225577</td>\n",
       "      <td>1399.144926</td>\n",
       "      <td>-499.919735</td>\n",
       "      <td>1400.102998</td>\n",
       "      <td>...</td>\n",
       "      <td>12.023554</td>\n",
       "      <td>-497.795834</td>\n",
       "      <td>8.016656</td>\n",
       "      <td>-501.289139</td>\n",
       "      <td>7.946562</td>\n",
       "      <td>-432.317850</td>\n",
       "      <td>4.872511</td>\n",
       "      <td>-500.037437</td>\n",
       "      <td>26.705889</td>\n",
       "      <td>-499.709414</td>\n",
       "    </tr>\n",
       "    <tr>\n",
       "      <td>1</td>\n",
       "      <td>2016-09-01 01:59:59</td>\n",
       "      <td>215.392455</td>\n",
       "      <td>14.987471</td>\n",
       "      <td>8.080000</td>\n",
       "      <td>0.990469</td>\n",
       "      <td>1398.777912</td>\n",
       "      <td>-500.057435</td>\n",
       "      <td>1398.055362</td>\n",
       "      <td>-499.778182</td>\n",
       "      <td>1396.151033</td>\n",
       "      <td>...</td>\n",
       "      <td>12.058140</td>\n",
       "      <td>-498.695773</td>\n",
       "      <td>8.130979</td>\n",
       "      <td>-499.634209</td>\n",
       "      <td>7.958270</td>\n",
       "      <td>-525.839648</td>\n",
       "      <td>4.878850</td>\n",
       "      <td>-500.162375</td>\n",
       "      <td>25.019940</td>\n",
       "      <td>-499.819438</td>\n",
       "    </tr>\n",
       "    <tr>\n",
       "      <td>2</td>\n",
       "      <td>2016-09-01 02:59:59</td>\n",
       "      <td>215.259946</td>\n",
       "      <td>12.884934</td>\n",
       "      <td>7.786667</td>\n",
       "      <td>0.996043</td>\n",
       "      <td>1398.493666</td>\n",
       "      <td>-500.868360</td>\n",
       "      <td>1398.860436</td>\n",
       "      <td>-499.764529</td>\n",
       "      <td>1398.075709</td>\n",
       "      <td>...</td>\n",
       "      <td>11.962366</td>\n",
       "      <td>-498.767484</td>\n",
       "      <td>8.096893</td>\n",
       "      <td>-500.827423</td>\n",
       "      <td>8.071056</td>\n",
       "      <td>-500.801673</td>\n",
       "      <td>4.905125</td>\n",
       "      <td>-499.828510</td>\n",
       "      <td>24.994862</td>\n",
       "      <td>-500.622559</td>\n",
       "    </tr>\n",
       "    <tr>\n",
       "      <td>3</td>\n",
       "      <td>2016-09-01 03:59:59</td>\n",
       "      <td>215.336236</td>\n",
       "      <td>12.006805</td>\n",
       "      <td>7.640000</td>\n",
       "      <td>0.863514</td>\n",
       "      <td>1399.618111</td>\n",
       "      <td>-498.863574</td>\n",
       "      <td>1397.440120</td>\n",
       "      <td>-499.211024</td>\n",
       "      <td>1400.129303</td>\n",
       "      <td>...</td>\n",
       "      <td>12.033091</td>\n",
       "      <td>-498.350935</td>\n",
       "      <td>8.074946</td>\n",
       "      <td>-499.474407</td>\n",
       "      <td>7.897085</td>\n",
       "      <td>-500.868509</td>\n",
       "      <td>4.931400</td>\n",
       "      <td>-499.963623</td>\n",
       "      <td>24.948919</td>\n",
       "      <td>-498.709987</td>\n",
       "    </tr>\n",
       "    <tr>\n",
       "      <td>4</td>\n",
       "      <td>2016-09-01 04:59:59</td>\n",
       "      <td>199.099327</td>\n",
       "      <td>10.682530</td>\n",
       "      <td>7.530000</td>\n",
       "      <td>0.805575</td>\n",
       "      <td>1401.268123</td>\n",
       "      <td>-500.808305</td>\n",
       "      <td>1398.128818</td>\n",
       "      <td>-499.504543</td>\n",
       "      <td>1402.172226</td>\n",
       "      <td>...</td>\n",
       "      <td>12.025367</td>\n",
       "      <td>-500.786497</td>\n",
       "      <td>8.054678</td>\n",
       "      <td>-500.397500</td>\n",
       "      <td>8.107890</td>\n",
       "      <td>-509.526725</td>\n",
       "      <td>4.957674</td>\n",
       "      <td>-500.360026</td>\n",
       "      <td>25.003331</td>\n",
       "      <td>-500.856333</td>\n",
       "    </tr>\n",
       "  </tbody>\n",
       "</table>\n",
       "<p>5 rows × 53 columns</p>\n",
       "</div>"
      ],
      "text/plain": [
       "                  date  primary_cleaner.input.sulfate  \\\n",
       "0  2016-09-01 00:59:59                     210.800909   \n",
       "1  2016-09-01 01:59:59                     215.392455   \n",
       "2  2016-09-01 02:59:59                     215.259946   \n",
       "3  2016-09-01 03:59:59                     215.336236   \n",
       "4  2016-09-01 04:59:59                     199.099327   \n",
       "\n",
       "   primary_cleaner.input.depressant  primary_cleaner.input.feed_size  \\\n",
       "0                         14.993118                         8.080000   \n",
       "1                         14.987471                         8.080000   \n",
       "2                         12.884934                         7.786667   \n",
       "3                         12.006805                         7.640000   \n",
       "4                         10.682530                         7.530000   \n",
       "\n",
       "   primary_cleaner.input.xanthate  primary_cleaner.state.floatbank8_a_air  \\\n",
       "0                        1.005021                             1398.981301   \n",
       "1                        0.990469                             1398.777912   \n",
       "2                        0.996043                             1398.493666   \n",
       "3                        0.863514                             1399.618111   \n",
       "4                        0.805575                             1401.268123   \n",
       "\n",
       "   primary_cleaner.state.floatbank8_a_level  \\\n",
       "0                               -500.225577   \n",
       "1                               -500.057435   \n",
       "2                               -500.868360   \n",
       "3                               -498.863574   \n",
       "4                               -500.808305   \n",
       "\n",
       "   primary_cleaner.state.floatbank8_b_air  \\\n",
       "0                             1399.144926   \n",
       "1                             1398.055362   \n",
       "2                             1398.860436   \n",
       "3                             1397.440120   \n",
       "4                             1398.128818   \n",
       "\n",
       "   primary_cleaner.state.floatbank8_b_level  \\\n",
       "0                               -499.919735   \n",
       "1                               -499.778182   \n",
       "2                               -499.764529   \n",
       "3                               -499.211024   \n",
       "4                               -499.504543   \n",
       "\n",
       "   primary_cleaner.state.floatbank8_c_air  ...  \\\n",
       "0                             1400.102998  ...   \n",
       "1                             1396.151033  ...   \n",
       "2                             1398.075709  ...   \n",
       "3                             1400.129303  ...   \n",
       "4                             1402.172226  ...   \n",
       "\n",
       "   secondary_cleaner.state.floatbank4_a_air  \\\n",
       "0                                 12.023554   \n",
       "1                                 12.058140   \n",
       "2                                 11.962366   \n",
       "3                                 12.033091   \n",
       "4                                 12.025367   \n",
       "\n",
       "   secondary_cleaner.state.floatbank4_a_level  \\\n",
       "0                                 -497.795834   \n",
       "1                                 -498.695773   \n",
       "2                                 -498.767484   \n",
       "3                                 -498.350935   \n",
       "4                                 -500.786497   \n",
       "\n",
       "   secondary_cleaner.state.floatbank4_b_air  \\\n",
       "0                                  8.016656   \n",
       "1                                  8.130979   \n",
       "2                                  8.096893   \n",
       "3                                  8.074946   \n",
       "4                                  8.054678   \n",
       "\n",
       "   secondary_cleaner.state.floatbank4_b_level  \\\n",
       "0                                 -501.289139   \n",
       "1                                 -499.634209   \n",
       "2                                 -500.827423   \n",
       "3                                 -499.474407   \n",
       "4                                 -500.397500   \n",
       "\n",
       "   secondary_cleaner.state.floatbank5_a_air  \\\n",
       "0                                  7.946562   \n",
       "1                                  7.958270   \n",
       "2                                  8.071056   \n",
       "3                                  7.897085   \n",
       "4                                  8.107890   \n",
       "\n",
       "   secondary_cleaner.state.floatbank5_a_level  \\\n",
       "0                                 -432.317850   \n",
       "1                                 -525.839648   \n",
       "2                                 -500.801673   \n",
       "3                                 -500.868509   \n",
       "4                                 -509.526725   \n",
       "\n",
       "   secondary_cleaner.state.floatbank5_b_air  \\\n",
       "0                                  4.872511   \n",
       "1                                  4.878850   \n",
       "2                                  4.905125   \n",
       "3                                  4.931400   \n",
       "4                                  4.957674   \n",
       "\n",
       "   secondary_cleaner.state.floatbank5_b_level  \\\n",
       "0                                 -500.037437   \n",
       "1                                 -500.162375   \n",
       "2                                 -499.828510   \n",
       "3                                 -499.963623   \n",
       "4                                 -500.360026   \n",
       "\n",
       "   secondary_cleaner.state.floatbank6_a_air  \\\n",
       "0                                 26.705889   \n",
       "1                                 25.019940   \n",
       "2                                 24.994862   \n",
       "3                                 24.948919   \n",
       "4                                 25.003331   \n",
       "\n",
       "   secondary_cleaner.state.floatbank6_a_level  \n",
       "0                                 -499.709414  \n",
       "1                                 -499.819438  \n",
       "2                                 -500.622559  \n",
       "3                                 -498.709987  \n",
       "4                                 -500.856333  \n",
       "\n",
       "[5 rows x 53 columns]"
      ]
     },
     "metadata": {},
     "output_type": "display_data"
    }
   ],
   "source": [
    "display(data.head())\n",
    "display(train.head())\n",
    "display(test.head())"
   ]
  },
  {
   "cell_type": "markdown",
   "metadata": {},
   "source": [
    "<div class=\"alert alert-block alert-success\">\n",
    "✔️ Данные загружены успешно.\n",
    "</div>"
   ]
  },
  {
   "cell_type": "code",
   "execution_count": 5,
   "metadata": {},
   "outputs": [
    {
     "name": "stdout",
     "output_type": "stream",
     "text": [
      "False    14149\n",
      "Name: rougher.output.recovery, dtype: int64\n",
      "False    14149\n",
      "Name: rougher.input.feed_au, dtype: int64\n",
      "False    14149\n",
      "Name: rougher.output.tail_au, dtype: int64\n",
      "False    14149\n",
      "Name: rougher.output.recovery, dtype: int64\n"
     ]
    }
   ],
   "source": [
    "print(train['rougher.output.recovery'].isnull().value_counts())\n",
    "print(train['rougher.input.feed_au'].isnull().value_counts())\n",
    "print(train['rougher.output.tail_au'].isnull().value_counts())\n",
    "print(train['rougher.output.recovery'].isnull().value_counts())"
   ]
  },
  {
   "cell_type": "markdown",
   "metadata": {},
   "source": [
    "В обучающей выборке,в столбцах,требуемых для расчета,отсутствуют пропуски. "
   ]
  },
  {
   "cell_type": "code",
   "execution_count": 6,
   "metadata": {},
   "outputs": [
    {
     "name": "stdout",
     "output_type": "stream",
     "text": [
      "Абсолютная средняя ошибка = 1.0708736259122423e-14\n"
     ]
    }
   ],
   "source": [
    "concentrate_au_column =train['rougher.output.concentrate_au']\n",
    "feed_au_column = train['rougher.input.feed_au']\n",
    "tail_au_column = train['rougher.output.tail_au']\n",
    "input_recovery = train['rougher.output.recovery']\n",
    "calculated_recovery = concentrate_au_column * (feed_au_column - tail_au_column) / feed_au_column / (concentrate_au_column - tail_au_column) * 100\n",
    "print('Абсолютная средняя ошибка =', mean_absolute_error(input_recovery, calculated_recovery))"
   ]
  },
  {
   "cell_type": "markdown",
   "metadata": {},
   "source": [
    "MAE достаточно мало,исходя из этого,значения признака и наши расчеты совпадают."
   ]
  },
  {
   "cell_type": "markdown",
   "metadata": {},
   "source": [
    "<div class=\"alert alert-block alert-success\">\n",
    "✔️ Отличное решение!\n",
    "</div>"
   ]
  },
  {
   "cell_type": "code",
   "execution_count": 7,
   "metadata": {},
   "outputs": [],
   "source": [
    "train=train.dropna()\n",
    "test=test.dropna()"
   ]
  },
  {
   "cell_type": "code",
   "execution_count": 8,
   "metadata": {
    "scrolled": true
   },
   "outputs": [
    {
     "name": "stdout",
     "output_type": "stream",
     "text": [
      "Отсутствующие значения в столбце test:  final.output.concentrate_ag\n",
      "Отсутствующие значения в столбце test:  final.output.concentrate_pb\n",
      "Отсутствующие значения в столбце test:  final.output.concentrate_sol\n",
      "Отсутствующие значения в столбце test:  final.output.concentrate_au\n",
      "Отсутствующие значения в столбце test:  final.output.recovery\n",
      "Отсутствующие значения в столбце test:  final.output.tail_ag\n",
      "Отсутствующие значения в столбце test:  final.output.tail_pb\n",
      "Отсутствующие значения в столбце test:  final.output.tail_sol\n",
      "Отсутствующие значения в столбце test:  final.output.tail_au\n",
      "Отсутствующие значения в столбце test:  primary_cleaner.output.concentrate_ag\n",
      "Отсутствующие значения в столбце test:  primary_cleaner.output.concentrate_pb\n",
      "Отсутствующие значения в столбце test:  primary_cleaner.output.concentrate_sol\n",
      "Отсутствующие значения в столбце test:  primary_cleaner.output.concentrate_au\n",
      "Отсутствующие значения в столбце test:  primary_cleaner.output.tail_ag\n",
      "Отсутствующие значения в столбце test:  primary_cleaner.output.tail_pb\n",
      "Отсутствующие значения в столбце test:  primary_cleaner.output.tail_sol\n",
      "Отсутствующие значения в столбце test:  primary_cleaner.output.tail_au\n",
      "Отсутствующие значения в столбце test:  rougher.calculation.sulfate_to_au_concentrate\n",
      "Отсутствующие значения в столбце test:  rougher.calculation.floatbank10_sulfate_to_au_feed\n",
      "Отсутствующие значения в столбце test:  rougher.calculation.floatbank11_sulfate_to_au_feed\n",
      "Отсутствующие значения в столбце test:  rougher.calculation.au_pb_ratio\n",
      "Отсутствующие значения в столбце test:  rougher.output.concentrate_ag\n",
      "Отсутствующие значения в столбце test:  rougher.output.concentrate_pb\n",
      "Отсутствующие значения в столбце test:  rougher.output.concentrate_sol\n",
      "Отсутствующие значения в столбце test:  rougher.output.concentrate_au\n",
      "Отсутствующие значения в столбце test:  rougher.output.recovery\n",
      "Отсутствующие значения в столбце test:  rougher.output.tail_ag\n",
      "Отсутствующие значения в столбце test:  rougher.output.tail_pb\n",
      "Отсутствующие значения в столбце test:  rougher.output.tail_sol\n",
      "Отсутствующие значения в столбце test:  rougher.output.tail_au\n",
      "Отсутствующие значения в столбце test:  secondary_cleaner.output.tail_ag\n",
      "Отсутствующие значения в столбце test:  secondary_cleaner.output.tail_pb\n",
      "Отсутствующие значения в столбце test:  secondary_cleaner.output.tail_sol\n",
      "Отсутствующие значения в столбце test:  secondary_cleaner.output.tail_au\n"
     ]
    }
   ],
   "source": [
    "def columns_in_test(trainn,testt):\n",
    "    for i in trainn.columns:\n",
    "        if i not in testt.columns:print(\"Отсутствующие значения в столбце test: \",i)\n",
    "columns_in_test(train,test)"
   ]
  },
  {
   "cell_type": "markdown",
   "metadata": {},
   "source": [
    "В тестовой выборке отсутствуют вышеуказанные столбцы,поскольку они вычисляются по оканчании всех этапов,следовательно являются онлайн-метриками."
   ]
  },
  {
   "cell_type": "code",
   "execution_count": 9,
   "metadata": {
    "scrolled": true
   },
   "outputs": [
    {
     "data": {
      "text/html": [
       "<div>\n",
       "<style scoped>\n",
       "    .dataframe tbody tr th:only-of-type {\n",
       "        vertical-align: middle;\n",
       "    }\n",
       "\n",
       "    .dataframe tbody tr th {\n",
       "        vertical-align: top;\n",
       "    }\n",
       "\n",
       "    .dataframe thead th {\n",
       "        text-align: right;\n",
       "    }\n",
       "</style>\n",
       "<table border=\"1\" class=\"dataframe\">\n",
       "  <thead>\n",
       "    <tr style=\"text-align: right;\">\n",
       "      <th></th>\n",
       "      <th>date</th>\n",
       "      <th>final.output.concentrate_ag</th>\n",
       "      <th>final.output.concentrate_pb</th>\n",
       "      <th>final.output.concentrate_sol</th>\n",
       "      <th>final.output.concentrate_au</th>\n",
       "      <th>final.output.recovery</th>\n",
       "      <th>final.output.tail_ag</th>\n",
       "      <th>final.output.tail_pb</th>\n",
       "      <th>final.output.tail_sol</th>\n",
       "      <th>final.output.tail_au</th>\n",
       "      <th>...</th>\n",
       "      <th>secondary_cleaner.state.floatbank4_a_air</th>\n",
       "      <th>secondary_cleaner.state.floatbank4_a_level</th>\n",
       "      <th>secondary_cleaner.state.floatbank4_b_air</th>\n",
       "      <th>secondary_cleaner.state.floatbank4_b_level</th>\n",
       "      <th>secondary_cleaner.state.floatbank5_a_air</th>\n",
       "      <th>secondary_cleaner.state.floatbank5_a_level</th>\n",
       "      <th>secondary_cleaner.state.floatbank5_b_air</th>\n",
       "      <th>secondary_cleaner.state.floatbank5_b_level</th>\n",
       "      <th>secondary_cleaner.state.floatbank6_a_air</th>\n",
       "      <th>secondary_cleaner.state.floatbank6_a_level</th>\n",
       "    </tr>\n",
       "  </thead>\n",
       "  <tbody>\n",
       "  </tbody>\n",
       "</table>\n",
       "<p>0 rows × 87 columns</p>\n",
       "</div>"
      ],
      "text/plain": [
       "Empty DataFrame\n",
       "Columns: [date, final.output.concentrate_ag, final.output.concentrate_pb, final.output.concentrate_sol, final.output.concentrate_au, final.output.recovery, final.output.tail_ag, final.output.tail_pb, final.output.tail_sol, final.output.tail_au, primary_cleaner.input.sulfate, primary_cleaner.input.depressant, primary_cleaner.input.feed_size, primary_cleaner.input.xanthate, primary_cleaner.output.concentrate_ag, primary_cleaner.output.concentrate_pb, primary_cleaner.output.concentrate_sol, primary_cleaner.output.concentrate_au, primary_cleaner.output.tail_ag, primary_cleaner.output.tail_pb, primary_cleaner.output.tail_sol, primary_cleaner.output.tail_au, primary_cleaner.state.floatbank8_a_air, primary_cleaner.state.floatbank8_a_level, primary_cleaner.state.floatbank8_b_air, primary_cleaner.state.floatbank8_b_level, primary_cleaner.state.floatbank8_c_air, primary_cleaner.state.floatbank8_c_level, primary_cleaner.state.floatbank8_d_air, primary_cleaner.state.floatbank8_d_level, rougher.calculation.sulfate_to_au_concentrate, rougher.calculation.floatbank10_sulfate_to_au_feed, rougher.calculation.floatbank11_sulfate_to_au_feed, rougher.calculation.au_pb_ratio, rougher.input.feed_ag, rougher.input.feed_pb, rougher.input.feed_rate, rougher.input.feed_size, rougher.input.feed_sol, rougher.input.feed_au, rougher.input.floatbank10_sulfate, rougher.input.floatbank10_xanthate, rougher.input.floatbank11_sulfate, rougher.input.floatbank11_xanthate, rougher.output.concentrate_ag, rougher.output.concentrate_pb, rougher.output.concentrate_sol, rougher.output.concentrate_au, rougher.output.recovery, rougher.output.tail_ag, rougher.output.tail_pb, rougher.output.tail_sol, rougher.output.tail_au, rougher.state.floatbank10_a_air, rougher.state.floatbank10_a_level, rougher.state.floatbank10_b_air, rougher.state.floatbank10_b_level, rougher.state.floatbank10_c_air, rougher.state.floatbank10_c_level, rougher.state.floatbank10_d_air, rougher.state.floatbank10_d_level, rougher.state.floatbank10_e_air, rougher.state.floatbank10_e_level, rougher.state.floatbank10_f_air, rougher.state.floatbank10_f_level, secondary_cleaner.output.tail_ag, secondary_cleaner.output.tail_pb, secondary_cleaner.output.tail_sol, secondary_cleaner.output.tail_au, secondary_cleaner.state.floatbank2_a_air, secondary_cleaner.state.floatbank2_a_level, secondary_cleaner.state.floatbank2_b_air, secondary_cleaner.state.floatbank2_b_level, secondary_cleaner.state.floatbank3_a_air, secondary_cleaner.state.floatbank3_a_level, secondary_cleaner.state.floatbank3_b_air, secondary_cleaner.state.floatbank3_b_level, secondary_cleaner.state.floatbank4_a_air, secondary_cleaner.state.floatbank4_a_level, secondary_cleaner.state.floatbank4_b_air, secondary_cleaner.state.floatbank4_b_level, secondary_cleaner.state.floatbank5_a_air, secondary_cleaner.state.floatbank5_a_level, secondary_cleaner.state.floatbank5_b_air, secondary_cleaner.state.floatbank5_b_level, secondary_cleaner.state.floatbank6_a_air, secondary_cleaner.state.floatbank6_a_level]\n",
       "Index: []\n",
       "\n",
       "[0 rows x 87 columns]"
      ]
     },
     "execution_count": 9,
     "metadata": {},
     "output_type": "execute_result"
    }
   ],
   "source": [
    "train = train.drop(train[train['rougher.output.recovery'] == 0].index)\n",
    "train[train['rougher.output.recovery'] < 1].head()\n",
    "train = train.drop(train[train['final.output.recovery'] == 0].index)\n",
    "train[train['final.output.recovery'] < 1].head()"
   ]
  },
  {
   "cell_type": "markdown",
   "metadata": {},
   "source": [
    "На этапе предобработки были выявлены и удалены аномальные значения,также пропуски в столбцах,требующихся нам в исследовании.Эффективность обогащения была рассчитана правильно,поскольку MAE достаточно мало."
   ]
  },
  {
   "cell_type": "markdown",
   "metadata": {},
   "source": [
    "## Анализ данных"
   ]
  },
  {
   "cell_type": "code",
   "execution_count": 10,
   "metadata": {},
   "outputs": [
    {
     "data": {
      "image/png": "[encoded data removed]",
      "text/plain": [
       "<Figure size 864x648 with 1 Axes>"
      ]
     },
     "metadata": {
      "needs_background": "light"
     },
     "output_type": "display_data"
    },
    {
     "data": {
      "image/png": "[encoded data removed]",
      "text/plain": [
       "<Figure size 864x648 with 1 Axes>"
      ]
     },
     "metadata": {
      "needs_background": "light"
     },
     "output_type": "display_data"
    },
    {
     "data": {
      "image/png": "[encoded data removed]",
      "text/plain": [
       "<Figure size 864x648 with 1 Axes>"
      ]
     },
     "metadata": {
      "needs_background": "light"
     },
     "output_type": "display_data"
    }
   ],
   "source": [
    "au_train=train[['final.output.concentrate_au','primary_cleaner.output.concentrate_au','rougher.output.concentrate_au']]\n",
    "ag_train=train[['final.output.concentrate_ag','primary_cleaner.output.concentrate_ag','rougher.output.concentrate_ag']]\n",
    "pb_train=train[['final.output.concentrate_pb','primary_cleaner.output.concentrate_pb','rougher.output.concentrate_pb']]\n",
    "def graph_concentrate(data):\n",
    "    plt.figure(figsize=[12,9])\n",
    "    for i in data.columns:\n",
    "        plt.hist(data[i],bins=100,label=i,alpha=0.5)\n",
    "        if 'au' in i:\n",
    "            plt.title('Гистограмма распределения концентрации золота')\n",
    "            plt.xlabel(\"Концентрация золота на выходе этапов\")\n",
    "        if 'ag' in i:\n",
    "            plt.title('Гистограмма распределения концентрации серебра')\n",
    "            plt.xlabel(\"Концентрация серебра на выходе этапов\")\n",
    "        if 'pb' in i:\n",
    "            plt.title('Гистограмма распределения концентрации свинца')\n",
    "            plt.xlabel(\"Концентрация свинца на выходе этапов\")\n",
    "    plt.ylabel(\"Количество результатов\")\n",
    "    plt.legend()\n",
    "graph_concentrate(au_train)\n",
    "graph_concentrate(ag_train)\n",
    "graph_concentrate(pb_train)"
   ]
  },
  {
   "cell_type": "markdown",
   "metadata": {},
   "source": [
    "Концентрация золота повышается с каждым этапом. Цель флотации и очисток увеличить концентрацию золота.Конецентрация серебра понижается с каждым шагом очистки.Концентрация свинца повышается с этапа rougher до primary_cleaner. И потом усредняется."
   ]
  },
  {
   "cell_type": "code",
   "execution_count": 11,
   "metadata": {},
   "outputs": [
    {
     "data": {
      "image/png": "[encoded data removed]",
      "text/plain": [
       "<Figure size 864x648 with 1 Axes>"
      ]
     },
     "metadata": {
      "needs_background": "light"
     },
     "output_type": "display_data"
    },
    {
     "data": {
      "image/png": "[encoded data removed]",
      "text/plain": [
       "<Figure size 864x648 with 1 Axes>"
      ]
     },
     "metadata": {
      "needs_background": "light"
     },
     "output_type": "display_data"
    }
   ],
   "source": [
    "def func_gran(train,test,axis):\n",
    "    plt.figure(figsize=[12,9])\n",
    "\n",
    "    plt.hist(train[axis], bins=100, label = axis, alpha=.5)\n",
    "    plt.hist(test[axis], bins=100, label = axis, alpha=.5)\n",
    "    plt.xlabel(\"Размер гранул сырья\")\n",
    "    plt.ylabel(\"Количество результатов\")\n",
    "    plt.legend()\n",
    "    if 'rougher' in axis:\n",
    "        plt.title(\"Гистограмма распределения гранул сырья перед флотацией\")\n",
    "    else:\n",
    "        plt.title(\"Гистограмма распределения гранул сырья перед первичной очисткой\")\n",
    "    plt.show()\n",
    "    \n",
    "    \n",
    "func_gran(train,test,'rougher.input.feed_size')\n",
    "func_gran(train,test,'primary_cleaner.input.feed_size')"
   ]
  },
  {
   "cell_type": "markdown",
   "metadata": {},
   "source": [
    "Распределение гранул до флотации похоже на нормальное со смещением влево как в обучающей, так и в тестовой выбрке. Существует много выбросов после размера гранул 100.Размеры гранул перед первичной очисткой обладают нормальным распределением."
   ]
  },
  {
   "cell_type": "code",
   "execution_count": 12,
   "metadata": {},
   "outputs": [],
   "source": [
    "final_output_train = (train['final.output.concentrate_au'] + train['final.output.concentrate_ag'] + train['final.output.concentrate_pb'] +train['final.output.concentrate_sol'])\n",
    "primary_cleaner_output_train = (train['primary_cleaner.output.concentrate_au'] + train['primary_cleaner.output.concentrate_ag'] + train['primary_cleaner.output.concentrate_pb'] +train['primary_cleaner.output.concentrate_sol'])\n",
    "rougher_output_train = (train['rougher.output.concentrate_au'] + train['rougher.output.concentrate_ag'] + train['rougher.output.concentrate_pb'] +train['rougher.output.concentrate_sol'])"
   ]
  },
  {
   "cell_type": "code",
   "execution_count": 13,
   "metadata": {},
   "outputs": [
    {
     "data": {
      "text/plain": [
       "Text(0.5, 1.0, 'Гистограмма распределения концентраций на разных этапах очистки')"
      ]
     },
     "execution_count": 13,
     "metadata": {},
     "output_type": "execute_result"
    },
    {
     "data": {
      "image/png": "[encoded data removed]",
      "text/plain": [
       "<Figure size 864x648 with 1 Axes>"
      ]
     },
     "metadata": {
      "needs_background": "light"
     },
     "output_type": "display_data"
    }
   ],
   "source": [
    "plt.figure(figsize=[12,9])\n",
    "plt.hist(final_output_train, bins=100, label = 'final_output', alpha=.5)\n",
    "plt.hist(primary_cleaner_output_train, bins=100, label = 'primary_cleaner_output', alpha=.5)\n",
    "plt.hist(rougher_output_train, bins=100, label = 'rougher_output', alpha=.5)\n",
    "plt.xlabel(\"Суммарная концентраця\")\n",
    "plt.ylabel(\"Количество результатов\")\n",
    "plt.legend()\n",
    "plt.title(\"Гистограмма распределения концентраций на разных этапах очистки\")"
   ]
  },
  {
   "cell_type": "markdown",
   "metadata": {},
   "source": [
    "Поскольку в нуле много значений primary_cleaner_output,удалим их."
   ]
  },
  {
   "cell_type": "code",
   "execution_count": 14,
   "metadata": {},
   "outputs": [
    {
     "data": {
      "text/html": [
       "<div>\n",
       "<style scoped>\n",
       "    .dataframe tbody tr th:only-of-type {\n",
       "        vertical-align: middle;\n",
       "    }\n",
       "\n",
       "    .dataframe tbody tr th {\n",
       "        vertical-align: top;\n",
       "    }\n",
       "\n",
       "    .dataframe thead th {\n",
       "        text-align: right;\n",
       "    }\n",
       "</style>\n",
       "<table border=\"1\" class=\"dataframe\">\n",
       "  <thead>\n",
       "    <tr style=\"text-align: right;\">\n",
       "      <th></th>\n",
       "      <th>date</th>\n",
       "      <th>final.output.concentrate_ag</th>\n",
       "      <th>final.output.concentrate_pb</th>\n",
       "      <th>final.output.concentrate_sol</th>\n",
       "      <th>final.output.concentrate_au</th>\n",
       "      <th>final.output.recovery</th>\n",
       "      <th>final.output.tail_ag</th>\n",
       "      <th>final.output.tail_pb</th>\n",
       "      <th>final.output.tail_sol</th>\n",
       "      <th>final.output.tail_au</th>\n",
       "      <th>...</th>\n",
       "      <th>secondary_cleaner.state.floatbank4_a_air</th>\n",
       "      <th>secondary_cleaner.state.floatbank4_a_level</th>\n",
       "      <th>secondary_cleaner.state.floatbank4_b_air</th>\n",
       "      <th>secondary_cleaner.state.floatbank4_b_level</th>\n",
       "      <th>secondary_cleaner.state.floatbank5_a_air</th>\n",
       "      <th>secondary_cleaner.state.floatbank5_a_level</th>\n",
       "      <th>secondary_cleaner.state.floatbank5_b_air</th>\n",
       "      <th>secondary_cleaner.state.floatbank5_b_level</th>\n",
       "      <th>secondary_cleaner.state.floatbank6_a_air</th>\n",
       "      <th>secondary_cleaner.state.floatbank6_a_level</th>\n",
       "    </tr>\n",
       "  </thead>\n",
       "  <tbody>\n",
       "  </tbody>\n",
       "</table>\n",
       "<p>0 rows × 87 columns</p>\n",
       "</div>"
      ],
      "text/plain": [
       "Empty DataFrame\n",
       "Columns: [date, final.output.concentrate_ag, final.output.concentrate_pb, final.output.concentrate_sol, final.output.concentrate_au, final.output.recovery, final.output.tail_ag, final.output.tail_pb, final.output.tail_sol, final.output.tail_au, primary_cleaner.input.sulfate, primary_cleaner.input.depressant, primary_cleaner.input.feed_size, primary_cleaner.input.xanthate, primary_cleaner.output.concentrate_ag, primary_cleaner.output.concentrate_pb, primary_cleaner.output.concentrate_sol, primary_cleaner.output.concentrate_au, primary_cleaner.output.tail_ag, primary_cleaner.output.tail_pb, primary_cleaner.output.tail_sol, primary_cleaner.output.tail_au, primary_cleaner.state.floatbank8_a_air, primary_cleaner.state.floatbank8_a_level, primary_cleaner.state.floatbank8_b_air, primary_cleaner.state.floatbank8_b_level, primary_cleaner.state.floatbank8_c_air, primary_cleaner.state.floatbank8_c_level, primary_cleaner.state.floatbank8_d_air, primary_cleaner.state.floatbank8_d_level, rougher.calculation.sulfate_to_au_concentrate, rougher.calculation.floatbank10_sulfate_to_au_feed, rougher.calculation.floatbank11_sulfate_to_au_feed, rougher.calculation.au_pb_ratio, rougher.input.feed_ag, rougher.input.feed_pb, rougher.input.feed_rate, rougher.input.feed_size, rougher.input.feed_sol, rougher.input.feed_au, rougher.input.floatbank10_sulfate, rougher.input.floatbank10_xanthate, rougher.input.floatbank11_sulfate, rougher.input.floatbank11_xanthate, rougher.output.concentrate_ag, rougher.output.concentrate_pb, rougher.output.concentrate_sol, rougher.output.concentrate_au, rougher.output.recovery, rougher.output.tail_ag, rougher.output.tail_pb, rougher.output.tail_sol, rougher.output.tail_au, rougher.state.floatbank10_a_air, rougher.state.floatbank10_a_level, rougher.state.floatbank10_b_air, rougher.state.floatbank10_b_level, rougher.state.floatbank10_c_air, rougher.state.floatbank10_c_level, rougher.state.floatbank10_d_air, rougher.state.floatbank10_d_level, rougher.state.floatbank10_e_air, rougher.state.floatbank10_e_level, rougher.state.floatbank10_f_air, rougher.state.floatbank10_f_level, secondary_cleaner.output.tail_ag, secondary_cleaner.output.tail_pb, secondary_cleaner.output.tail_sol, secondary_cleaner.output.tail_au, secondary_cleaner.state.floatbank2_a_air, secondary_cleaner.state.floatbank2_a_level, secondary_cleaner.state.floatbank2_b_air, secondary_cleaner.state.floatbank2_b_level, secondary_cleaner.state.floatbank3_a_air, secondary_cleaner.state.floatbank3_a_level, secondary_cleaner.state.floatbank3_b_air, secondary_cleaner.state.floatbank3_b_level, secondary_cleaner.state.floatbank4_a_air, secondary_cleaner.state.floatbank4_a_level, secondary_cleaner.state.floatbank4_b_air, secondary_cleaner.state.floatbank4_b_level, secondary_cleaner.state.floatbank5_a_air, secondary_cleaner.state.floatbank5_a_level, secondary_cleaner.state.floatbank5_b_air, secondary_cleaner.state.floatbank5_b_level, secondary_cleaner.state.floatbank6_a_air, secondary_cleaner.state.floatbank6_a_level]\n",
       "Index: []\n",
       "\n",
       "[0 rows x 87 columns]"
      ]
     },
     "execution_count": 14,
     "metadata": {},
     "output_type": "execute_result"
    }
   ],
   "source": [
    "\n",
    "train = train.drop(train[train['primary_cleaner.output.concentrate_au'] == 0].index)\n",
    "train[train['primary_cleaner.output.concentrate_au'] == 0].head()"
   ]
  },
  {
   "cell_type": "markdown",
   "metadata": {},
   "source": [
    "На этапе анализа были визуализированы и изучены концентрации вещест на разных этапах,а также размер гранул тестовой и обучающей выборке.Следующим этапом будем строить модель"
   ]
  },
  {
   "cell_type": "markdown",
   "metadata": {},
   "source": [
    "## Модель"
   ]
  },
  {
   "cell_type": "code",
   "execution_count": 15,
   "metadata": {
    "scrolled": true
   },
   "outputs": [
    {
     "name": "stdout",
     "output_type": "stream",
     "text": [
      "{'rougher.input.floatbank10_sulfate', 'rougher.state.floatbank10_f_level', 'rougher.state.floatbank10_c_air', 'rougher.state.floatbank10_f_air', 'rougher.input.floatbank11_xanthate', 'rougher.state.floatbank10_e_level', 'rougher.state.floatbank10_b_level', 'rougher.state.floatbank10_d_air', 'rougher.input.feed_ag', 'rougher.input.feed_sol', 'rougher.input.feed_au', 'rougher.state.floatbank10_a_level', 'rougher.input.feed_pb', 'rougher.state.floatbank10_d_level', 'rougher.input.floatbank11_sulfate', 'rougher.state.floatbank10_e_air', 'rougher.input.feed_rate', 'rougher.input.feed_size', 'rougher.input.floatbank10_xanthate', 'rougher.state.floatbank10_b_air', 'rougher.state.floatbank10_a_air', 'rougher.state.floatbank10_c_level'}\n",
      "\n",
      "{'rougher.input.floatbank10_sulfate', 'rougher.state.floatbank10_f_level', 'primary_cleaner.state.floatbank8_b_air', 'secondary_cleaner.state.floatbank3_a_air', 'primary_cleaner.input.sulfate', 'primary_cleaner.state.floatbank8_c_level', 'primary_cleaner.input.feed_size', 'rougher.state.floatbank10_c_air', 'secondary_cleaner.state.floatbank3_b_level', 'secondary_cleaner.state.floatbank2_a_level', 'secondary_cleaner.state.floatbank2_b_air', 'secondary_cleaner.state.floatbank6_a_air', 'rougher.state.floatbank10_f_air', 'secondary_cleaner.state.floatbank4_b_air', 'secondary_cleaner.state.floatbank5_b_level', 'rougher.input.floatbank11_xanthate', 'secondary_cleaner.state.floatbank5_a_air', 'rougher.state.floatbank10_e_level', 'rougher.state.floatbank10_b_level', 'primary_cleaner.state.floatbank8_b_level', 'secondary_cleaner.state.floatbank2_b_level', 'rougher.state.floatbank10_d_air', 'primary_cleaner.state.floatbank8_a_level', 'secondary_cleaner.state.floatbank4_a_air', 'secondary_cleaner.state.floatbank6_a_level', 'rougher.input.feed_ag', 'primary_cleaner.input.xanthate', 'secondary_cleaner.state.floatbank3_b_air', 'secondary_cleaner.state.floatbank4_b_level', 'secondary_cleaner.state.floatbank5_b_air', 'rougher.input.feed_sol', 'rougher.input.feed_au', 'primary_cleaner.state.floatbank8_a_air', 'rougher.state.floatbank10_a_level', 'rougher.input.feed_pb', 'rougher.state.floatbank10_d_level', 'rougher.input.floatbank11_sulfate', 'rougher.state.floatbank10_e_air', 'rougher.input.feed_rate', 'primary_cleaner.state.floatbank8_c_air', 'primary_cleaner.state.floatbank8_d_air', 'secondary_cleaner.state.floatbank5_a_level', 'rougher.input.feed_size', 'secondary_cleaner.state.floatbank2_a_air', 'rougher.input.floatbank10_xanthate', 'rougher.state.floatbank10_b_air', 'secondary_cleaner.state.floatbank4_a_level', 'rougher.state.floatbank10_a_air', 'rougher.state.floatbank10_c_level', 'secondary_cleaner.state.floatbank3_a_level', 'primary_cleaner.state.floatbank8_d_level', 'primary_cleaner.input.depressant'}\n",
      "{'date', 'primary_cleaner.output.tail_pb', 'rougher.output.concentrate_pb', 'primary_cleaner.output.tail_sol', 'final.output.recovery', 'rougher.calculation.sulfate_to_au_concentrate', 'rougher.output.tail_ag', 'rougher.output.concentrate_ag', 'secondary_cleaner.output.tail_ag', 'secondary_cleaner.output.tail_pb', 'final.output.tail_ag', 'final.output.tail_au', 'rougher.calculation.floatbank11_sulfate_to_au_feed', 'primary_cleaner.output.tail_ag', 'rougher.output.tail_au', 'final.output.concentrate_sol', 'primary_cleaner.output.tail_au', 'secondary_cleaner.output.tail_sol', 'rougher.output.concentrate_au', 'final.output.concentrate_ag', 'final.output.tail_pb', 'primary_cleaner.output.concentrate_sol', 'primary_cleaner.output.concentrate_au', 'final.output.concentrate_au', 'rougher.output.recovery', 'rougher.calculation.au_pb_ratio', 'primary_cleaner.output.concentrate_ag', 'secondary_cleaner.output.tail_au', 'primary_cleaner.output.concentrate_pb', 'final.output.tail_sol', 'final.output.concentrate_pb', 'rougher.output.tail_pb', 'rougher.output.tail_sol', 'rougher.output.concentrate_sol', 'rougher.calculation.floatbank10_sulfate_to_au_feed'}\n",
      "\n",
      "Index(['primary_cleaner.input.sulfate', 'primary_cleaner.input.depressant',\n",
      "       'primary_cleaner.input.feed_size', 'primary_cleaner.input.xanthate',\n",
      "       'primary_cleaner.state.floatbank8_a_air',\n",
      "       'primary_cleaner.state.floatbank8_a_level',\n",
      "       'primary_cleaner.state.floatbank8_b_air',\n",
      "       'primary_cleaner.state.floatbank8_b_level',\n",
      "       'primary_cleaner.state.floatbank8_c_air',\n",
      "       'primary_cleaner.state.floatbank8_c_level',\n",
      "       'primary_cleaner.state.floatbank8_d_air',\n",
      "       'primary_cleaner.state.floatbank8_d_level', 'rougher.input.feed_ag',\n",
      "       'rougher.input.feed_pb', 'rougher.input.feed_rate',\n",
      "       'rougher.input.feed_size', 'rougher.input.feed_sol',\n",
      "       'rougher.input.feed_au', 'rougher.input.floatbank10_sulfate',\n",
      "       'rougher.input.floatbank10_xanthate',\n",
      "       'rougher.input.floatbank11_sulfate',\n",
      "       'rougher.input.floatbank11_xanthate', 'rougher.state.floatbank10_a_air',\n",
      "       'rougher.state.floatbank10_a_level', 'rougher.state.floatbank10_b_air',\n",
      "       'rougher.state.floatbank10_b_level', 'rougher.state.floatbank10_c_air',\n",
      "       'rougher.state.floatbank10_c_level', 'rougher.state.floatbank10_d_air',\n",
      "       'rougher.state.floatbank10_d_level', 'rougher.state.floatbank10_e_air',\n",
      "       'rougher.state.floatbank10_e_level', 'rougher.state.floatbank10_f_air',\n",
      "       'rougher.state.floatbank10_f_level',\n",
      "       'secondary_cleaner.state.floatbank2_a_air',\n",
      "       'secondary_cleaner.state.floatbank2_a_level',\n",
      "       'secondary_cleaner.state.floatbank2_b_air',\n",
      "       'secondary_cleaner.state.floatbank2_b_level',\n",
      "       'secondary_cleaner.state.floatbank3_a_air',\n",
      "       'secondary_cleaner.state.floatbank3_a_level',\n",
      "       'secondary_cleaner.state.floatbank3_b_air',\n",
      "       'secondary_cleaner.state.floatbank3_b_level',\n",
      "       'secondary_cleaner.state.floatbank4_a_air',\n",
      "       'secondary_cleaner.state.floatbank4_a_level',\n",
      "       'secondary_cleaner.state.floatbank4_b_air',\n",
      "       'secondary_cleaner.state.floatbank4_b_level',\n",
      "       'secondary_cleaner.state.floatbank5_a_air',\n",
      "       'secondary_cleaner.state.floatbank5_a_level',\n",
      "       'secondary_cleaner.state.floatbank5_b_air',\n",
      "       'secondary_cleaner.state.floatbank5_b_level',\n",
      "       'secondary_cleaner.state.floatbank6_a_air',\n",
      "       'secondary_cleaner.state.floatbank6_a_level'],\n",
      "      dtype='object')\n",
      "set()\n",
      "{'secondary_cleaner.state.floatbank3_a_air', 'primary_cleaner.state.floatbank8_b_air', 'primary_cleaner.input.sulfate', 'primary_cleaner.state.floatbank8_c_level', 'primary_cleaner.input.feed_size', 'secondary_cleaner.state.floatbank6_a_air', 'secondary_cleaner.state.floatbank2_a_level', 'secondary_cleaner.state.floatbank2_b_air', 'secondary_cleaner.state.floatbank4_b_air', 'secondary_cleaner.state.floatbank5_b_level', 'secondary_cleaner.state.floatbank5_a_air', 'primary_cleaner.state.floatbank8_b_level', 'secondary_cleaner.state.floatbank2_b_level', 'primary_cleaner.state.floatbank8_a_level', 'secondary_cleaner.state.floatbank4_a_air', 'secondary_cleaner.state.floatbank6_a_level', 'primary_cleaner.input.xanthate', 'secondary_cleaner.state.floatbank3_b_air', 'secondary_cleaner.state.floatbank4_b_level', 'secondary_cleaner.state.floatbank5_b_air', 'primary_cleaner.state.floatbank8_a_air', 'primary_cleaner.state.floatbank8_c_air', 'primary_cleaner.state.floatbank8_d_air', 'secondary_cleaner.state.floatbank5_a_level', 'secondary_cleaner.state.floatbank2_a_air', 'secondary_cleaner.state.floatbank4_a_level', 'secondary_cleaner.state.floatbank3_a_level', 'primary_cleaner.state.floatbank8_d_level', 'secondary_cleaner.state.floatbank3_b_level', 'primary_cleaner.input.depressant'}\n",
      "\n",
      "Index(['rougher.input.feed_ag', 'rougher.input.feed_pb',\n",
      "       'rougher.input.feed_rate', 'rougher.input.feed_size',\n",
      "       'rougher.input.feed_sol', 'rougher.input.feed_au',\n",
      "       'rougher.input.floatbank10_sulfate',\n",
      "       'rougher.input.floatbank10_xanthate',\n",
      "       'rougher.input.floatbank11_sulfate',\n",
      "       'rougher.input.floatbank11_xanthate', 'rougher.state.floatbank10_a_air',\n",
      "       'rougher.state.floatbank10_a_level', 'rougher.state.floatbank10_b_air',\n",
      "       'rougher.state.floatbank10_b_level', 'rougher.state.floatbank10_c_air',\n",
      "       'rougher.state.floatbank10_c_level', 'rougher.state.floatbank10_d_air',\n",
      "       'rougher.state.floatbank10_d_level', 'rougher.state.floatbank10_e_air',\n",
      "       'rougher.state.floatbank10_e_level', 'rougher.state.floatbank10_f_air',\n",
      "       'rougher.state.floatbank10_f_level'],\n",
      "      dtype='object')\n"
     ]
    }
   ],
   "source": [
    "rougher_features_columns = set(test.columns[1:][12:34])\n",
    "final_features_columns = set(test.columns[1:])\n",
    "print(rougher_features_columns)\n",
    "print()\n",
    "print(final_features_columns)\n",
    "columns_to_delete = set(train.columns) - set(test.columns[1:])\n",
    "print(columns_to_delete)\n",
    "train_features_final = train.drop(columns_to_delete, axis=1)\n",
    "print()\n",
    "print(train_features_final.columns)\n",
    "print(set(train_features_final.columns) - set(test.columns))\n",
    "columns_to_delete = set(train_features_final.columns) - rougher_features_columns\n",
    "print(columns_to_delete)\n",
    "train_features_rougher = train_features_final.drop(columns_to_delete, axis=1)\n",
    "print()\n",
    "print(train_features_rougher.columns)"
   ]
  },
  {
   "cell_type": "code",
   "execution_count": 16,
   "metadata": {},
   "outputs": [],
   "source": [
    "train_target_final = train['final.output.recovery']\n",
    "train_target_rougher = train['rougher.output.recovery']"
   ]
  },
  {
   "cell_type": "code",
   "execution_count": 17,
   "metadata": {},
   "outputs": [
    {
     "data": {
      "text/plain": [
       "array([[70.85960962, 88.5900696 ],\n",
       "       [69.48169502, 87.78770741],\n",
       "       [68.6621311 , 87.9073589 ],\n",
       "       ...,\n",
       "       [66.59088139, 89.45988272],\n",
       "       [65.83377618, 88.10847491],\n",
       "       [68.32602655, 87.32802517]])"
      ]
     },
     "execution_count": 17,
     "metadata": {},
     "output_type": "execute_result"
    }
   ],
   "source": [
    "# код ревьюера для объяснения\n",
    "demo_model = LinearRegression()\n",
    "demo_features = train.set_index('date').drop(['final.output.recovery', 'rougher.output.recovery'], axis=1)\n",
    "demo_target = train.set_index('date')[['final.output.recovery', 'rougher.output.recovery']]\n",
    "demo_model.fit(demo_features, demo_target)\n",
    "demo_pred = demo_model.predict(demo_features)\n",
    "demo_pred"
   ]
  },
  {
   "cell_type": "code",
   "execution_count": 18,
   "metadata": {},
   "outputs": [
    {
     "name": "stdout",
     "output_type": "stream",
     "text": [
      "{'secondary_cleaner.state.floatbank3_a_air', 'primary_cleaner.state.floatbank8_b_air', 'primary_cleaner.input.sulfate', 'primary_cleaner.state.floatbank8_c_level', 'primary_cleaner.input.feed_size', 'secondary_cleaner.state.floatbank6_a_air', 'secondary_cleaner.state.floatbank2_a_level', 'secondary_cleaner.state.floatbank2_b_air', 'secondary_cleaner.state.floatbank4_b_air', 'secondary_cleaner.state.floatbank5_b_level', 'secondary_cleaner.state.floatbank5_a_air', 'primary_cleaner.state.floatbank8_b_level', 'secondary_cleaner.state.floatbank2_b_level', 'primary_cleaner.state.floatbank8_a_level', 'secondary_cleaner.state.floatbank4_a_air', 'secondary_cleaner.state.floatbank6_a_level', 'primary_cleaner.input.xanthate', 'secondary_cleaner.state.floatbank3_b_air', 'secondary_cleaner.state.floatbank4_b_level', 'secondary_cleaner.state.floatbank5_b_air', 'primary_cleaner.state.floatbank8_a_air', 'primary_cleaner.state.floatbank8_c_air', 'primary_cleaner.state.floatbank8_d_air', 'secondary_cleaner.state.floatbank5_a_level', 'secondary_cleaner.state.floatbank2_a_air', 'secondary_cleaner.state.floatbank4_a_level', 'secondary_cleaner.state.floatbank3_a_level', 'primary_cleaner.state.floatbank8_d_level', 'secondary_cleaner.state.floatbank3_b_level', 'primary_cleaner.input.depressant'}\n"
     ]
    }
   ],
   "source": [
    "test_features_final = test.drop('date', axis=1)\n",
    "columns_to_delete = set(test_features_final.columns) - rougher_features_columns\n",
    "print(columns_to_delete)\n",
    "test_features_rougher = test_features_final.drop(columns_to_delete, axis=1)"
   ]
  },
  {
   "cell_type": "markdown",
   "metadata": {},
   "source": [
    "Сделаем функцию sMAPE"
   ]
  },
  {
   "cell_type": "code",
   "execution_count": 19,
   "metadata": {},
   "outputs": [],
   "source": [
    "def sMAPE_score(rougher_recovery_real, rougher_recovery_predicted, final_recovery_real, final_recovery_predicted):\n",
    "    n = rougher_recovery_real.shape[0]\n",
    "    rougher_sMAPE = ((2*abs(rougher_recovery_real - rougher_recovery_predicted)/\n",
    "                     (abs(rougher_recovery_real) + abs(rougher_recovery_predicted))).sum() * 100 / n)\n",
    "    final_sMAPE = ((2*abs(final_recovery_real - final_recovery_predicted)/\n",
    "                     (abs(final_recovery_real) + abs(final_recovery_predicted))).sum() * 100 / n)\n",
    "    return rougher_sMAPE * 0.25 + final_sMAPE * 0.75"
   ]
  },
  {
   "cell_type": "code",
   "execution_count": 20,
   "metadata": {},
   "outputs": [
    {
     "name": "stdout",
     "output_type": "stream",
     "text": [
      "Mean R2 from CV of LinearRegression = -0.19455349428687826\n",
      "Mean MAE from CV of LinearRegression = -5.903842205297186\n",
      "CPU times: user 1.64 s, sys: 1.5 s, total: 3.14 s\n",
      "Wall time: 3.18 s\n"
     ]
    }
   ],
   "source": [
    "%%time\n",
    "regressor = LinearRegression()\n",
    "print('Mean R2 from CV of LinearRegression =', cross_val_score(regressor, train_features_final, train_target_final, cv=5).mean())\n",
    "print('Mean MAE from CV of LinearRegression =', cross_val_score(regressor, train_features_final, train_target_final, cv=5, scoring='neg_mean_absolute_error').mean())"
   ]
  },
  {
   "cell_type": "code",
   "execution_count": 21,
   "metadata": {},
   "outputs": [
    {
     "name": "stdout",
     "output_type": "stream",
     "text": [
      "Mean R2 from CV of PolynomialRegression with 2 degree = -53.89653167918615\n",
      "Mean MAE from CV of PolynomialRegression with 2 degree = -31.70119742197959\n",
      "CPU times: user 1min 45s, sys: 52 s, total: 2min 37s\n",
      "Wall time: 2min 38s\n"
     ]
    }
   ],
   "source": [
    "%%time\n",
    "\n",
    "regressor = LinearRegression()\n",
    "polynomial_features = PolynomialFeatures(degree=2, include_bias=False)\n",
    "pipeline = Pipeline([(\"polynomial_features\", polynomial_features),(\"linear_regression\", regressor)])\n",
    "print('Mean R2 from CV of PolynomialRegression with 2 degree =', cross_val_score(pipeline, train_features_final, train_target_final, cv=5).mean())\n",
    "print('Mean MAE from CV of PolynomialRegression with 2 degree =', cross_val_score(pipeline, train_features_final, train_target_final, cv=5, scoring='neg_mean_absolute_error').mean())"
   ]
  },
  {
   "cell_type": "markdown",
   "metadata": {},
   "source": [
    "Для регрессоров Ridge и DecisionTreeRegressor применим метод GridSearchCV. В нем уже вложена кросс-валидация."
   ]
  },
  {
   "cell_type": "code",
   "execution_count": 22,
   "metadata": {
    "scrolled": false
   },
   "outputs": [
    {
     "name": "stdout",
     "output_type": "stream",
     "text": [
      "# Tuning hyper-parameters for r2\n",
      "\n"
     ]
    },
    {
     "name": "stderr",
     "output_type": "stream",
     "text": [
      "/opt/conda/lib/python3.7/site-packages/sklearn/model_selection/_split.py:1978: FutureWarning: The default value of cv will change from 3 to 5 in version 0.22. Specify it explicitly to silence this warning.\n",
      "  warnings.warn(CV_WARNING, FutureWarning)\n"
     ]
    },
    {
     "name": "stdout",
     "output_type": "stream",
     "text": [
      "Best parameters set found on development set:\n",
      "\n",
      "{'alpha': 10, 'solver': 'sparse_cg'}\n",
      "\n",
      "Grid scores on development set:\n",
      "\n",
      "-0.236 (+/-0.480) for {'alpha': 0.1, 'solver': 'auto'}\n",
      "-0.235 (+/-0.480) for {'alpha': 1, 'solver': 'auto'}\n",
      "-0.235 (+/-0.484) for {'alpha': 10, 'solver': 'auto'}\n",
      "-0.224 (+/-0.497) for {'alpha': 100, 'solver': 'auto'}\n",
      "-0.236 (+/-0.480) for {'alpha': 0.1, 'solver': 'svd'}\n",
      "-0.235 (+/-0.480) for {'alpha': 1, 'solver': 'svd'}\n",
      "-0.235 (+/-0.484) for {'alpha': 10, 'solver': 'svd'}\n",
      "-0.224 (+/-0.497) for {'alpha': 100, 'solver': 'svd'}\n",
      "-0.236 (+/-0.480) for {'alpha': 0.1, 'solver': 'cholesky'}\n",
      "-0.235 (+/-0.480) for {'alpha': 1, 'solver': 'cholesky'}\n",
      "-0.235 (+/-0.484) for {'alpha': 10, 'solver': 'cholesky'}\n",
      "-0.224 (+/-0.497) for {'alpha': 100, 'solver': 'cholesky'}\n",
      "-0.470 (+/-0.715) for {'alpha': 0.1, 'solver': 'lsqr'}\n",
      "-0.470 (+/-0.715) for {'alpha': 1, 'solver': 'lsqr'}\n",
      "-0.470 (+/-0.715) for {'alpha': 10, 'solver': 'lsqr'}\n",
      "-0.470 (+/-0.715) for {'alpha': 100, 'solver': 'lsqr'}\n",
      "-0.124 (+/-0.469) for {'alpha': 0.1, 'solver': 'sparse_cg'}\n",
      "-0.170 (+/-0.415) for {'alpha': 1, 'solver': 'sparse_cg'}\n",
      "-0.111 (+/-0.433) for {'alpha': 10, 'solver': 'sparse_cg'}\n",
      "-0.136 (+/-0.416) for {'alpha': 100, 'solver': 'sparse_cg'}\n",
      "\n",
      "# Tuning hyper-parameters for neg_mean_absolute_error\n",
      "\n"
     ]
    },
    {
     "name": "stderr",
     "output_type": "stream",
     "text": [
      "/opt/conda/lib/python3.7/site-packages/sklearn/model_selection/_split.py:1978: FutureWarning: The default value of cv will change from 3 to 5 in version 0.22. Specify it explicitly to silence this warning.\n",
      "  warnings.warn(CV_WARNING, FutureWarning)\n"
     ]
    },
    {
     "name": "stdout",
     "output_type": "stream",
     "text": [
      "Best parameters set found on development set:\n",
      "\n",
      "{'alpha': 10, 'solver': 'sparse_cg'}\n",
      "\n",
      "Grid scores on development set:\n",
      "\n",
      "-6.801 (+/-2.599) for {'alpha': 0.1, 'solver': 'auto'}\n",
      "-6.801 (+/-2.601) for {'alpha': 1, 'solver': 'auto'}\n",
      "-6.800 (+/-2.620) for {'alpha': 10, 'solver': 'auto'}\n",
      "-6.758 (+/-2.685) for {'alpha': 100, 'solver': 'auto'}\n",
      "-6.801 (+/-2.599) for {'alpha': 0.1, 'solver': 'svd'}\n",
      "-6.801 (+/-2.601) for {'alpha': 1, 'solver': 'svd'}\n",
      "-6.800 (+/-2.620) for {'alpha': 10, 'solver': 'svd'}\n",
      "-6.758 (+/-2.685) for {'alpha': 100, 'solver': 'svd'}\n",
      "-6.801 (+/-2.599) for {'alpha': 0.1, 'solver': 'cholesky'}\n",
      "-6.801 (+/-2.601) for {'alpha': 1, 'solver': 'cholesky'}\n",
      "-6.800 (+/-2.620) for {'alpha': 10, 'solver': 'cholesky'}\n",
      "-6.758 (+/-2.685) for {'alpha': 100, 'solver': 'cholesky'}\n",
      "-7.416 (+/-3.060) for {'alpha': 0.1, 'solver': 'lsqr'}\n",
      "-7.416 (+/-3.060) for {'alpha': 1, 'solver': 'lsqr'}\n",
      "-7.416 (+/-3.060) for {'alpha': 10, 'solver': 'lsqr'}\n",
      "-7.415 (+/-3.061) for {'alpha': 100, 'solver': 'lsqr'}\n",
      "-6.362 (+/-2.585) for {'alpha': 0.1, 'solver': 'sparse_cg'}\n",
      "-6.527 (+/-2.309) for {'alpha': 1, 'solver': 'sparse_cg'}\n",
      "-6.317 (+/-2.457) for {'alpha': 10, 'solver': 'sparse_cg'}\n",
      "-6.401 (+/-2.389) for {'alpha': 100, 'solver': 'sparse_cg'}\n",
      "\n",
      "CPU times: user 17.3 s, sys: 18.8 s, total: 36 s\n",
      "Wall time: 36.1 s\n"
     ]
    }
   ],
   "source": [
    "%%time\n",
    "\n",
    "regressor = Ridge()\n",
    "hyperparams = [{'alpha':[0.1, 1, 10, 100], 'solver':['auto']},\n",
    "                 {'alpha':[0.1, 1, 10, 100], 'solver':['svd']}, \n",
    "                 {'alpha':[0.1, 1, 10, 100], 'solver':['cholesky']},\n",
    "                 {'alpha':[0.1, 1, 10, 100], 'solver':['lsqr']}, \n",
    "                 {'alpha':[0.1, 1, 10, 100], 'solver':['sparse_cg']}]\n",
    "\n",
    "scores = ['r2', 'neg_mean_absolute_error']\n",
    "\n",
    "for score in scores:\n",
    "    print('# Tuning hyper-parameters for %s' % score)\n",
    "    print()\n",
    "    clf = GridSearchCV(regressor, hyperparams, scoring=score)\n",
    "    clf.fit(train_features_final, train_target_final)\n",
    "    print(\"Best parameters set found on development set:\")\n",
    "    print()\n",
    "    print(clf.best_params_)\n",
    "    print()\n",
    "    print(\"Grid scores on development set:\")\n",
    "    print()\n",
    "    means = clf.cv_results_['mean_test_score']\n",
    "    stds = clf.cv_results_['std_test_score']\n",
    "    for mean, std, params in zip(means, stds, clf.cv_results_['params']):\n",
    "        print(\"%0.3f (+/-%0.03f) for %r\"% (mean, std * 2, params))\n",
    "    print()"
   ]
  },
  {
   "cell_type": "code",
   "execution_count": 23,
   "metadata": {},
   "outputs": [
    {
     "name": "stdout",
     "output_type": "stream",
     "text": [
      "# Tuning hyper-parameters\n",
      "\n"
     ]
    },
    {
     "name": "stderr",
     "output_type": "stream",
     "text": [
      "/opt/conda/lib/python3.7/site-packages/sklearn/model_selection/_split.py:1978: FutureWarning: The default value of cv will change from 3 to 5 in version 0.22. Specify it explicitly to silence this warning.\n",
      "  warnings.warn(CV_WARNING, FutureWarning)\n"
     ]
    },
    {
     "name": "stdout",
     "output_type": "stream",
     "text": [
      "Best parameters set found on development set:\n",
      "\n",
      "{'criterion': 'mae', 'max_depth': 2, 'random_state': 15062020}\n",
      "\n",
      "Grid scores on development set:\n",
      "\n",
      "-0.134 (+/-0.286) for {'criterion': 'mse', 'max_depth': 2, 'random_state': 15062020}\n",
      "-0.055 (+/-0.188) for {'criterion': 'mse', 'max_depth': 4, 'random_state': 15062020}\n",
      "-0.260 (+/-0.131) for {'criterion': 'mse', 'max_depth': 6, 'random_state': 15062020}\n",
      "-0.435 (+/-0.091) for {'criterion': 'mse', 'max_depth': 8, 'random_state': 15062020}\n",
      "-0.878 (+/-0.074) for {'criterion': 'mse', 'max_depth': 10, 'random_state': 15062020}\n",
      "-0.890 (+/-0.322) for {'criterion': 'mse', 'max_depth': 12, 'random_state': 15062020}\n",
      "-1.023 (+/-0.408) for {'criterion': 'mse', 'max_depth': 14, 'random_state': 15062020}\n",
      "-1.160 (+/-0.837) for {'criterion': 'mse', 'max_depth': 16, 'random_state': 15062020}\n",
      "-1.398 (+/-1.096) for {'criterion': 'mse', 'max_depth': 18, 'random_state': 15062020}\n",
      "-1.364 (+/-0.945) for {'criterion': 'mse', 'max_depth': 20, 'random_state': 15062020}\n",
      "-0.036 (+/-0.175) for {'criterion': 'mae', 'max_depth': 2, 'random_state': 15062020}\n",
      "-0.483 (+/-1.273) for {'criterion': 'mae', 'max_depth': 4, 'random_state': 15062020}\n",
      "-2.211 (+/-2.810) for {'criterion': 'mae', 'max_depth': 6, 'random_state': 15062020}\n",
      "-1.811 (+/-2.322) for {'criterion': 'mae', 'max_depth': 8, 'random_state': 15062020}\n",
      "-2.108 (+/-2.314) for {'criterion': 'mae', 'max_depth': 10, 'random_state': 15062020}\n",
      "-2.347 (+/-2.244) for {'criterion': 'mae', 'max_depth': 12, 'random_state': 15062020}\n",
      "-2.459 (+/-1.912) for {'criterion': 'mae', 'max_depth': 14, 'random_state': 15062020}\n",
      "-3.126 (+/-2.379) for {'criterion': 'mae', 'max_depth': 16, 'random_state': 15062020}\n",
      "-2.751 (+/-1.427) for {'criterion': 'mae', 'max_depth': 18, 'random_state': 15062020}\n",
      "-3.625 (+/-2.349) for {'criterion': 'mae', 'max_depth': 20, 'random_state': 15062020}\n",
      "\n",
      "CPU times: user 10min 35s, sys: 0 ns, total: 10min 35s\n",
      "Wall time: 10min 36s\n"
     ]
    }
   ],
   "source": [
    "%%time\n",
    "\n",
    "regressor = DecisionTreeRegressor() \n",
    "max_depth_list = [x for x in range(2, 21, 2)]\n",
    "hyperparams = [{'criterion':['mse'], 'max_depth':max_depth_list, 'random_state':[15062020]},\n",
    "               {'criterion':['mae'], 'max_depth':max_depth_list, 'random_state':[15062020]}]\n",
    "\n",
    "print('# Tuning hyper-parameters')\n",
    "print()\n",
    "clf = GridSearchCV(regressor, hyperparams)\n",
    "clf.fit(train_features_final, train_target_final)\n",
    "print(\"Best parameters set found on development set:\")\n",
    "print()\n",
    "print(clf.best_params_)\n",
    "print()\n",
    "print(\"Grid scores on development set:\")\n",
    "print()\n",
    "means = clf.cv_results_['mean_test_score']\n",
    "stds = clf.cv_results_['std_test_score']\n",
    "for mean, std, params in zip(means, stds, clf.cv_results_['params']):\n",
    "    print(\"%0.3f (+/-%0.03f) for %r\"% (mean, std * 2, params))\n",
    "print()"
   ]
  },
  {
   "cell_type": "code",
   "execution_count": 28,
   "metadata": {},
   "outputs": [],
   "source": [
    "rougher_recovery_real = data.loc[test_features_rougher.index,'rougher.output.recovery']\n",
    "final_recovery_real = data.loc[test_features_final.index,'final.output.recovery']\n",
    "not_nan_index = set(test_features_rougher.index)\n",
    "not_nan_index = not_nan_index.intersection(set(final_recovery_real.index), set(rougher_recovery_real.index))"
   ]
  },
  {
   "cell_type": "code",
   "execution_count": 29,
   "metadata": {},
   "outputs": [
    {
     "name": "stdout",
     "output_type": "stream",
     "text": [
      "sMAPE для медианной константной модели 11.679754848001743\n"
     ]
    }
   ],
   "source": [
    "median_rougher_recovery = data['rougher.output.recovery'].median()\n",
    "median_final_recovery = data['final.output.recovery'].median()\n",
    "\n",
    "n = rougher_recovery_real.shape[0]\n",
    "rougher_sMAPE = ((2*abs(rougher_recovery_real - median_rougher_recovery)/\n",
    "                     (abs(rougher_recovery_real) + abs(median_rougher_recovery))).sum() * 100 / n)\n",
    "final_sMAPE = ((2*abs(final_recovery_real - median_final_recovery)/\n",
    "                     (abs(final_recovery_real) + abs(median_final_recovery))).sum() * 100 / n)\n",
    "print('sMAPE для медианной константной модели', rougher_sMAPE * 0.25 + final_sMAPE * 0.75)"
   ]
  },
  {
   "cell_type": "code",
   "execution_count": 26,
   "metadata": {},
   "outputs": [
    {
     "name": "stdout",
     "output_type": "stream",
     "text": [
      "sMAPE для линейной регресии 12.623643558078957\n",
      "sMAPE для полиноминальной регресии 25.95615758030087\n",
      "sMAPE для регресии Ridge 12.527117382169768\n",
      "sMAPE для DecisionTreeRegressor 12.94752083927472\n",
      "sMAPE для медианной константной модели 11.679754848001743\n",
      "CPU times: user 1min 2s, sys: 0 ns, total: 1min 2s\n",
      "Wall time: 1min 2s\n"
     ]
    }
   ],
   "source": [
    "%%time\n",
    "\n",
    "model = LinearRegression()\n",
    "model.fit(train_features_rougher, train_target_rougher)\n",
    "rougher_recovery_predicted = model.predict(test_features_rougher)\n",
    "model.fit(train_features_final, train_target_final)\n",
    "final_recovery_predicted = model.predict(test_features_final)\n",
    "print('sMAPE для линейной регресии',sMAPE_score(rougher_recovery_real, rougher_recovery_predicted, final_recovery_real, final_recovery_predicted))\n",
    "\n",
    "regressor = LinearRegression()\n",
    "polynomial_features = PolynomialFeatures(degree=2, include_bias=False)\n",
    "model = Pipeline([(\"polynomial_features\", polynomial_features),(\"linear_regression\", regressor)])\n",
    "model.fit(train_features_rougher, train_target_rougher)\n",
    "rougher_recovery_predicted = model.predict(test_features_rougher)\n",
    "model.fit(train_features_final, train_target_final)\n",
    "final_recovery_predicted = model.predict(test_features_final)\n",
    "print('sMAPE для полиноминальной регресии',sMAPE_score(rougher_recovery_real, rougher_recovery_predicted, final_recovery_real, final_recovery_predicted))\n",
    "\n",
    "model = Ridge(alpha=100, solver='sparse_cg')\n",
    "model.fit(train_features_rougher, train_target_rougher)\n",
    "rougher_recovery_predicted = model.predict(test_features_rougher)\n",
    "model.fit(train_features_final, train_target_final)\n",
    "final_recovery_predicted = model.predict(test_features_final)\n",
    "print('sMAPE для регресии Ridge',sMAPE_score(rougher_recovery_real, rougher_recovery_predicted, final_recovery_real, final_recovery_predicted))\n",
    "\n",
    "model = DecisionTreeRegressor(criterion='mae', max_depth=2, random_state=15062020)\n",
    "model.fit(train_features_rougher, train_target_rougher)\n",
    "rougher_recovery_predicted = model.predict(test_features_rougher)\n",
    "model.fit(train_features_final, train_target_final)\n",
    "final_recovery_predicted = model.predict(test_features_final)\n",
    "print('sMAPE для DecisionTreeRegressor',sMAPE_score(rougher_recovery_real, rougher_recovery_predicted, final_recovery_real, final_recovery_predicted)) \n",
    "\n",
    "n = rougher_recovery_real.shape[0]\n",
    "rougher_sMAPE = ((2*abs(rougher_recovery_real - median_rougher_recovery)/\n",
    "                     (abs(rougher_recovery_real) + abs(median_rougher_recovery))).sum() * 100 / n)\n",
    "final_sMAPE = ((2*abs(final_recovery_real - median_final_recovery)/\n",
    "                     (abs(final_recovery_real) + abs(median_final_recovery))).sum() * 100 / n)\n",
    "print('sMAPE для медианной константной модели', rougher_sMAPE * 0.25 + final_sMAPE * 0.75)"
   ]
  },
  {
   "cell_type": "code",
   "execution_count": 30,
   "metadata": {},
   "outputs": [
    {
     "name": "stdout",
     "output_type": "stream",
     "text": [
      "R2 Ridge model = -0.32261277705593727\n",
      "MAE Ridge model = 7.510620154638339\n",
      "\n",
      "R2 constant model = -0.15530194696012067\n",
      "MAE constant model = 6.706628293443592\n"
     ]
    }
   ],
   "source": [
    "model = Ridge(alpha=100, solver='sparse_cg')\n",
    "model.fit(train_features_final, train_target_final)\n",
    "final_recovery_predicted = model.predict(test_features_final)\n",
    "print('R2 Ridge model =', r2_score(final_recovery_real, final_recovery_predicted))\n",
    "print('MAE Ridge model =', mean_absolute_error(final_recovery_real, final_recovery_predicted))\n",
    "print()\n",
    "\n",
    "final_median_predict = pd.Series(median_final_recovery, index=not_nan_index)\n",
    "print('R2 constant model =', r2_score(final_recovery_real, final_median_predict))\n",
    "print('MAE constant model =', mean_absolute_error(final_recovery_real, final_median_predict))"
   ]
  },
  {
   "cell_type": "markdown",
   "metadata": {},
   "source": [
    "Была написана функция для вычисления sMAPE. Каждая модель была изучена на качество с помощью методов кросс-валидации и поиска гипер параметром GridSearchCV.\n",
    "\n",
    "Была отобрана лучшая модель - Ridge. Ее значение sMAPE самое низкое."
   ]
  },
  {
   "cell_type": "markdown",
   "metadata": {},
   "source": [
    "# Общий вывод"
   ]
  },
  {
   "cell_type": "markdown",
   "metadata": {},
   "source": [
    "В ходе работы было выполнено:\n",
    "\n",
    "Подготовлены данные.\n",
    "Проведен исследовательский анализ данных.\n",
    "Построена и обучена модель.\n",
    "Регрессор Ridge показал себя лучше обычной линейной регресии. sMAPE показал 12.62. Если сравнивать с константной моделью, значение проигрывает на 0.8. Другие метрики тоже говорят о том, что константная модель адекватнее выбранной"
   ]
  }
 ],
 "metadata": {
  "ExecuteTimeLog": [
   {
    "duration": 740,
    "start_time": "2021-12-22T11:58:29.105Z"
   },
   {
    "duration": 3,
    "start_time": "2021-12-22T11:58:51.856Z"
   },
   {
    "duration": 2405,
    "start_time": "2021-12-22T12:00:01.013Z"
   },
   {
    "duration": 902,
    "start_time": "2021-12-22T12:00:53.023Z"
   },
   {
    "duration": 133,
    "start_time": "2021-12-22T12:01:28.742Z"
   },
   {
    "duration": 172,
    "start_time": "2021-12-22T12:02:03.974Z"
   },
   {
    "duration": 154,
    "start_time": "2021-12-22T12:02:28.782Z"
   },
   {
    "duration": 63,
    "start_time": "2021-12-22T13:21:55.248Z"
   },
   {
    "duration": 105,
    "start_time": "2021-12-22T13:21:58.853Z"
   },
   {
    "duration": 7,
    "start_time": "2021-12-22T13:23:19.946Z"
   },
   {
    "duration": 33,
    "start_time": "2021-12-22T13:23:48.422Z"
   },
   {
    "duration": 288,
    "start_time": "2021-12-22T13:23:55.069Z"
   },
   {
    "duration": 262,
    "start_time": "2021-12-22T13:24:02.382Z"
   },
   {
    "duration": 24,
    "start_time": "2021-12-22T13:24:10.548Z"
   },
   {
    "duration": 9,
    "start_time": "2021-12-22T13:24:27.254Z"
   },
   {
    "duration": 9,
    "start_time": "2021-12-22T13:24:39.575Z"
   },
   {
    "duration": 322,
    "start_time": "2021-12-22T13:30:15.236Z"
   },
   {
    "duration": 768,
    "start_time": "2021-12-22T13:31:20.371Z"
   },
   {
    "duration": 9,
    "start_time": "2021-12-22T13:31:24.928Z"
   },
   {
    "duration": 23,
    "start_time": "2021-12-22T13:32:07.377Z"
   },
   {
    "duration": 348,
    "start_time": "2021-12-22T13:34:48.167Z"
   },
   {
    "duration": 381,
    "start_time": "2021-12-22T13:34:53.359Z"
   },
   {
    "duration": 23,
    "start_time": "2021-12-22T13:35:10.303Z"
   },
   {
    "duration": 278,
    "start_time": "2021-12-22T13:35:22.730Z"
   },
   {
    "duration": 266,
    "start_time": "2021-12-22T13:35:28.024Z"
   },
   {
    "duration": 24,
    "start_time": "2021-12-22T13:37:53.817Z"
   },
   {
    "duration": 25,
    "start_time": "2021-12-22T13:38:00.797Z"
   },
   {
    "duration": 26,
    "start_time": "2021-12-22T13:38:07.142Z"
   },
   {
    "duration": 1837,
    "start_time": "2021-12-22T13:41:40.662Z"
   },
   {
    "duration": 738,
    "start_time": "2021-12-22T13:43:46.679Z"
   },
   {
    "duration": 12,
    "start_time": "2021-12-22T13:44:03.405Z"
   },
   {
    "duration": 89,
    "start_time": "2021-12-22T13:44:24.863Z"
   },
   {
    "duration": 14,
    "start_time": "2021-12-22T13:44:28.877Z"
   },
   {
    "duration": 43,
    "start_time": "2021-12-22T14:58:26.176Z"
   },
   {
    "duration": 33,
    "start_time": "2021-12-22T14:58:45.224Z"
   },
   {
    "duration": 36,
    "start_time": "2021-12-22T14:59:53.217Z"
   },
   {
    "duration": 78,
    "start_time": "2021-12-22T15:00:09.083Z"
   },
   {
    "duration": 36,
    "start_time": "2021-12-22T15:01:50.221Z"
   },
   {
    "duration": 53,
    "start_time": "2021-12-22T15:03:28.871Z"
   },
   {
    "duration": 78,
    "start_time": "2021-12-22T17:28:53.871Z"
   },
   {
    "duration": 1407,
    "start_time": "2021-12-22T17:28:57.660Z"
   },
   {
    "duration": 555,
    "start_time": "2021-12-26T11:05:20.461Z"
   },
   {
    "duration": 1509,
    "start_time": "2021-12-26T11:05:29.937Z"
   },
   {
    "duration": 861,
    "start_time": "2021-12-26T11:05:31.449Z"
   },
   {
    "duration": 71,
    "start_time": "2021-12-26T11:05:32.313Z"
   },
   {
    "duration": 105,
    "start_time": "2021-12-26T11:05:32.387Z"
   },
   {
    "duration": 15,
    "start_time": "2021-12-26T11:05:32.495Z"
   },
   {
    "duration": 14,
    "start_time": "2021-12-26T11:05:32.512Z"
   },
   {
    "duration": 44,
    "start_time": "2021-12-26T11:05:32.529Z"
   },
   {
    "duration": 15,
    "start_time": "2021-12-26T11:05:32.576Z"
   },
   {
    "duration": 67,
    "start_time": "2021-12-26T11:05:32.594Z"
   },
   {
    "duration": 7,
    "start_time": "2021-12-26T11:05:32.664Z"
   },
   {
    "duration": 19,
    "start_time": "2021-12-26T11:05:53.232Z"
   },
   {
    "duration": 8,
    "start_time": "2021-12-26T11:06:26.917Z"
   },
   {
    "duration": 22,
    "start_time": "2021-12-26T11:06:45.821Z"
   },
   {
    "duration": 22,
    "start_time": "2021-12-26T11:06:51.846Z"
   },
   {
    "duration": 22,
    "start_time": "2021-12-26T11:06:56.562Z"
   },
   {
    "duration": 24,
    "start_time": "2021-12-26T11:06:58.371Z"
   },
   {
    "duration": 9,
    "start_time": "2021-12-26T11:07:12.161Z"
   },
   {
    "duration": 1312,
    "start_time": "2021-12-26T11:08:42.832Z"
   },
   {
    "duration": 1458,
    "start_time": "2021-12-26T11:16:10.564Z"
   },
   {
    "duration": 1267,
    "start_time": "2021-12-26T11:19:08.936Z"
   },
   {
    "duration": 1271,
    "start_time": "2021-12-26T11:19:34.746Z"
   },
   {
    "duration": 4148,
    "start_time": "2021-12-26T11:19:54.017Z"
   },
   {
    "duration": 4727,
    "start_time": "2021-12-26T11:21:45.677Z"
   },
   {
    "duration": 4464,
    "start_time": "2021-12-26T11:39:39.400Z"
   },
   {
    "duration": 4665,
    "start_time": "2021-12-26T11:39:56.138Z"
   },
   {
    "duration": 41,
    "start_time": "2021-12-26T11:44:17.951Z"
   },
   {
    "duration": 1489,
    "start_time": "2021-12-26T11:44:27.161Z"
   },
   {
    "duration": 890,
    "start_time": "2021-12-26T11:44:28.652Z"
   },
   {
    "duration": 69,
    "start_time": "2021-12-26T11:44:29.545Z"
   },
   {
    "duration": 110,
    "start_time": "2021-12-26T11:44:29.617Z"
   },
   {
    "duration": 36,
    "start_time": "2021-12-26T11:44:29.729Z"
   },
   {
    "duration": 14,
    "start_time": "2021-12-26T11:44:29.767Z"
   },
   {
    "duration": 20,
    "start_time": "2021-12-26T11:44:29.783Z"
   },
   {
    "duration": 56,
    "start_time": "2021-12-26T11:44:29.805Z"
   },
   {
    "duration": 43,
    "start_time": "2021-12-26T11:44:29.865Z"
   },
   {
    "duration": 4586,
    "start_time": "2021-12-26T11:44:29.911Z"
   },
   {
    "duration": 4677,
    "start_time": "2021-12-26T11:47:14.236Z"
   },
   {
    "duration": 1795,
    "start_time": "2021-12-26T12:02:03.765Z"
   },
   {
    "duration": 3839,
    "start_time": "2021-12-26T12:02:29.348Z"
   },
   {
    "duration": 2386,
    "start_time": "2021-12-26T12:02:58.727Z"
   },
   {
    "duration": 3246,
    "start_time": "2021-12-26T12:03:56.513Z"
   },
   {
    "duration": 2525,
    "start_time": "2021-12-26T12:04:36.106Z"
   },
   {
    "duration": 2306,
    "start_time": "2021-12-26T12:04:46.459Z"
   },
   {
    "duration": 9,
    "start_time": "2021-12-26T12:08:34.889Z"
   },
   {
    "duration": 8,
    "start_time": "2021-12-26T12:08:54.169Z"
   },
   {
    "duration": 1536,
    "start_time": "2021-12-26T12:09:59.347Z"
   },
   {
    "duration": 36,
    "start_time": "2021-12-26T12:10:31.621Z"
   },
   {
    "duration": 25,
    "start_time": "2021-12-26T12:11:47.774Z"
   },
   {
    "duration": 10,
    "start_time": "2021-12-26T14:33:24.627Z"
   },
   {
    "duration": 540,
    "start_time": "2021-12-26T14:36:06.860Z"
   },
   {
    "duration": 15,
    "start_time": "2021-12-26T14:38:42.892Z"
   },
   {
    "duration": 4,
    "start_time": "2021-12-26T14:42:21.400Z"
   },
   {
    "duration": 12,
    "start_time": "2021-12-26T14:43:56.054Z"
   },
   {
    "duration": 6,
    "start_time": "2021-12-26T14:46:48.769Z"
   },
   {
    "duration": 403,
    "start_time": "2021-12-26T14:54:00.670Z"
   },
   {
    "duration": 10,
    "start_time": "2021-12-26T14:54:27.413Z"
   },
   {
    "duration": 142,
    "start_time": "2021-12-26T14:54:43.314Z"
   },
   {
    "duration": 454,
    "start_time": "2021-12-26T14:55:36.716Z"
   },
   {
    "duration": 214,
    "start_time": "2021-12-26T14:58:58.303Z"
   },
   {
    "duration": 240,
    "start_time": "2021-12-26T14:59:06.373Z"
   },
   {
    "duration": 21,
    "start_time": "2021-12-26T15:21:37.034Z"
   },
   {
    "duration": 3268,
    "start_time": "2021-12-26T15:21:44.495Z"
   },
   {
    "duration": 2694,
    "start_time": "2021-12-26T15:22:23.069Z"
   },
   {
    "duration": 358,
    "start_time": "2021-12-26T16:14:07.604Z"
   },
   {
    "duration": 38,
    "start_time": "2021-12-26T16:14:43.903Z"
   },
   {
    "duration": 173731,
    "start_time": "2021-12-26T16:14:49.331Z"
   },
   {
    "duration": 36402,
    "start_time": "2021-12-26T16:20:58.661Z"
   },
   {
    "duration": 748303,
    "start_time": "2021-12-26T16:22:55.490Z"
   },
   {
    "duration": 384,
    "start_time": "2021-12-26T16:43:45.136Z"
   },
   {
    "duration": 9,
    "start_time": "2021-12-26T16:44:19.627Z"
   },
   {
    "duration": 9,
    "start_time": "2021-12-26T16:46:47.839Z"
   },
   {
    "duration": 75079,
    "start_time": "2021-12-26T16:47:18.267Z"
   },
   {
    "duration": 15,
    "start_time": "2021-12-26T16:49:01.920Z"
   },
   {
    "duration": 13,
    "start_time": "2021-12-26T16:49:20.992Z"
   },
   {
    "duration": 38,
    "start_time": "2021-12-26T16:50:10.135Z"
   },
   {
    "duration": 90254,
    "start_time": "2021-12-26T16:50:34.845Z"
   },
   {
    "duration": 612,
    "start_time": "2021-12-26T16:52:47.848Z"
   },
   {
    "duration": 1485,
    "start_time": "2021-12-27T13:41:27.878Z"
   },
   {
    "duration": 898,
    "start_time": "2021-12-27T13:41:29.366Z"
   },
   {
    "duration": 70,
    "start_time": "2021-12-27T13:41:30.266Z"
   },
   {
    "duration": 101,
    "start_time": "2021-12-27T13:41:30.363Z"
   },
   {
    "duration": 15,
    "start_time": "2021-12-27T13:41:30.467Z"
   },
   {
    "duration": 15,
    "start_time": "2021-12-27T13:41:30.486Z"
   },
   {
    "duration": 22,
    "start_time": "2021-12-27T13:41:30.504Z"
   },
   {
    "duration": 11,
    "start_time": "2021-12-27T13:41:30.563Z"
   },
   {
    "duration": 41,
    "start_time": "2021-12-27T13:41:30.580Z"
   },
   {
    "duration": 4874,
    "start_time": "2021-12-27T13:41:30.624Z"
   },
   {
    "duration": 2608,
    "start_time": "2021-12-27T13:41:35.500Z"
   },
   {
    "duration": 8,
    "start_time": "2021-12-27T13:41:38.110Z"
   },
   {
    "duration": 1664,
    "start_time": "2021-12-27T13:41:38.120Z"
   },
   {
    "duration": 27,
    "start_time": "2021-12-27T13:41:39.787Z"
   },
   {
    "duration": 16,
    "start_time": "2021-12-27T13:41:39.817Z"
   },
   {
    "duration": 4,
    "start_time": "2021-12-27T13:41:39.862Z"
   },
   {
    "duration": 10,
    "start_time": "2021-12-27T13:41:39.869Z"
   },
   {
    "duration": 5,
    "start_time": "2021-12-27T13:41:39.883Z"
   },
   {
    "duration": 2477,
    "start_time": "2021-12-27T13:41:39.891Z"
   },
   {
    "duration": 190941,
    "start_time": "2021-12-27T13:41:42.371Z"
   },
   {
    "duration": 38599,
    "start_time": "2021-12-27T13:44:53.368Z"
   },
   {
    "duration": 644020,
    "start_time": "2021-12-27T13:45:31.970Z"
   },
   {
    "duration": 290,
    "start_time": "2021-12-27T13:56:15.993Z"
   },
   {
    "duration": 661,
    "start_time": "2021-12-27T13:56:15.625Z"
   },
   {
    "duration": 657,
    "start_time": "2021-12-27T13:56:15.630Z"
   },
   {
    "duration": 657,
    "start_time": "2021-12-27T13:56:15.632Z"
   },
   {
    "duration": 2322,
    "start_time": "2021-12-27T13:56:19.601Z"
   },
   {
    "duration": 2422,
    "start_time": "2021-12-27T13:58:32.727Z"
   },
   {
    "duration": 206,
    "start_time": "2021-12-27T13:59:06.707Z"
   },
   {
    "duration": 8,
    "start_time": "2021-12-27T13:59:51.417Z"
   },
   {
    "duration": 471,
    "start_time": "2021-12-27T14:01:44.040Z"
   },
   {
    "duration": 871,
    "start_time": "2021-12-27T14:02:12.663Z"
   },
   {
    "duration": 502,
    "start_time": "2021-12-27T14:03:28.428Z"
   },
   {
    "duration": 479,
    "start_time": "2021-12-27T14:03:38.022Z"
   },
   {
    "duration": 469,
    "start_time": "2021-12-27T14:04:39.740Z"
   },
   {
    "duration": 1830,
    "start_time": "2021-12-27T14:04:58.874Z"
   },
   {
    "duration": 907,
    "start_time": "2021-12-27T14:05:00.707Z"
   },
   {
    "duration": 76,
    "start_time": "2021-12-27T14:05:01.618Z"
   },
   {
    "duration": 109,
    "start_time": "2021-12-27T14:05:01.697Z"
   },
   {
    "duration": 16,
    "start_time": "2021-12-27T14:05:01.809Z"
   },
   {
    "duration": 44,
    "start_time": "2021-12-27T14:05:01.828Z"
   },
   {
    "duration": 35,
    "start_time": "2021-12-27T14:05:01.875Z"
   },
   {
    "duration": 14,
    "start_time": "2021-12-27T14:05:01.915Z"
   },
   {
    "duration": 56,
    "start_time": "2021-12-27T14:05:01.933Z"
   },
   {
    "duration": 4720,
    "start_time": "2021-12-27T14:05:01.993Z"
   },
   {
    "duration": 2429,
    "start_time": "2021-12-27T14:05:06.716Z"
   },
   {
    "duration": 15,
    "start_time": "2021-12-27T14:05:09.148Z"
   },
   {
    "duration": 1676,
    "start_time": "2021-12-27T14:05:09.165Z"
   },
   {
    "duration": 38,
    "start_time": "2021-12-27T14:05:10.844Z"
   },
   {
    "duration": 15,
    "start_time": "2021-12-27T14:05:10.885Z"
   },
   {
    "duration": 21,
    "start_time": "2021-12-27T14:05:10.904Z"
   },
   {
    "duration": 35,
    "start_time": "2021-12-27T14:05:10.928Z"
   },
   {
    "duration": 36,
    "start_time": "2021-12-27T14:05:10.966Z"
   },
   {
    "duration": 3459,
    "start_time": "2021-12-27T14:05:11.005Z"
   },
   {
    "duration": 185997,
    "start_time": "2021-12-27T14:05:14.468Z"
   },
   {
    "duration": 38398,
    "start_time": "2021-12-27T14:08:20.469Z"
   },
   {
    "duration": 683471,
    "start_time": "2021-12-27T14:08:58.870Z"
   },
   {
    "duration": 925,
    "start_time": "2021-12-27T14:20:22.347Z"
   },
   {
    "duration": 647,
    "start_time": "2021-12-27T14:20:22.628Z"
   },
   {
    "duration": 645,
    "start_time": "2021-12-27T14:20:22.632Z"
   },
   {
    "duration": 533,
    "start_time": "2021-12-27T14:30:01.676Z"
   },
   {
    "duration": 43,
    "start_time": "2021-12-27T14:31:09.966Z"
   },
   {
    "duration": 635,
    "start_time": "2021-12-27T14:31:43.839Z"
   },
   {
    "duration": 404,
    "start_time": "2021-12-27T14:35:50.368Z"
   },
   {
    "duration": 521,
    "start_time": "2021-12-27T14:36:10.244Z"
   },
   {
    "duration": 1626,
    "start_time": "2021-12-27T14:36:24.452Z"
   },
   {
    "duration": 1004,
    "start_time": "2021-12-27T14:36:26.082Z"
   },
   {
    "duration": 85,
    "start_time": "2021-12-27T14:36:27.089Z"
   },
   {
    "duration": 110,
    "start_time": "2021-12-27T14:36:27.176Z"
   },
   {
    "duration": 18,
    "start_time": "2021-12-27T14:36:27.289Z"
   },
   {
    "duration": 33,
    "start_time": "2021-12-27T14:36:27.309Z"
   },
   {
    "duration": 30,
    "start_time": "2021-12-27T14:36:27.345Z"
   },
   {
    "duration": 17,
    "start_time": "2021-12-27T14:36:27.379Z"
   },
   {
    "duration": 72,
    "start_time": "2021-12-27T14:36:27.401Z"
   },
   {
    "duration": 5007,
    "start_time": "2021-12-27T14:36:27.476Z"
   },
   {
    "duration": 2422,
    "start_time": "2021-12-27T14:36:32.486Z"
   },
   {
    "duration": 8,
    "start_time": "2021-12-27T14:36:34.910Z"
   },
   {
    "duration": 1501,
    "start_time": "2021-12-27T14:36:34.921Z"
   },
   {
    "duration": 41,
    "start_time": "2021-12-27T14:36:36.425Z"
   },
   {
    "duration": 17,
    "start_time": "2021-12-27T14:36:36.469Z"
   },
   {
    "duration": 4,
    "start_time": "2021-12-27T14:36:36.488Z"
   },
   {
    "duration": 568,
    "start_time": "2021-12-27T14:36:36.495Z"
   },
   {
    "duration": 9,
    "start_time": "2021-12-27T14:36:37.065Z"
   },
   {
    "duration": 6,
    "start_time": "2021-12-27T14:36:37.077Z"
   },
   {
    "duration": 2982,
    "start_time": "2021-12-27T14:36:37.086Z"
   },
   {
    "duration": 184795,
    "start_time": "2021-12-27T14:36:40.071Z"
   },
   {
    "duration": 40596,
    "start_time": "2021-12-27T14:39:44.870Z"
   },
   {
    "duration": 659677,
    "start_time": "2021-12-27T14:40:25.470Z"
   },
   {
    "duration": 458,
    "start_time": "2021-12-27T14:51:25.150Z"
   },
   {
    "duration": 404,
    "start_time": "2021-12-27T14:51:25.207Z"
   },
   {
    "duration": 401,
    "start_time": "2021-12-27T14:51:25.211Z"
   },
   {
    "duration": 350,
    "start_time": "2021-12-28T05:26:17.382Z"
   },
   {
    "duration": 1599,
    "start_time": "2021-12-28T05:26:25.306Z"
   },
   {
    "duration": 911,
    "start_time": "2021-12-28T05:26:26.908Z"
   },
   {
    "duration": 76,
    "start_time": "2021-12-28T05:26:27.822Z"
   },
   {
    "duration": 109,
    "start_time": "2021-12-28T05:26:27.900Z"
   },
   {
    "duration": 16,
    "start_time": "2021-12-28T05:26:28.011Z"
   },
   {
    "duration": 35,
    "start_time": "2021-12-28T05:26:28.030Z"
   },
   {
    "duration": 21,
    "start_time": "2021-12-28T05:26:28.070Z"
   },
   {
    "duration": 14,
    "start_time": "2021-12-28T05:26:28.094Z"
   },
   {
    "duration": 71,
    "start_time": "2021-12-28T05:26:28.111Z"
   },
   {
    "duration": 4613,
    "start_time": "2021-12-28T05:26:28.184Z"
   },
   {
    "duration": 2401,
    "start_time": "2021-12-28T05:26:32.800Z"
   },
   {
    "duration": 9,
    "start_time": "2021-12-28T05:26:35.203Z"
   },
   {
    "duration": 1540,
    "start_time": "2021-12-28T05:26:35.214Z"
   },
   {
    "duration": 31,
    "start_time": "2021-12-28T05:26:36.757Z"
   },
   {
    "duration": 16,
    "start_time": "2021-12-28T05:26:36.791Z"
   },
   {
    "duration": 3,
    "start_time": "2021-12-28T05:26:36.810Z"
   },
   {
    "duration": 355,
    "start_time": "2021-12-28T05:26:36.815Z"
   },
   {
    "duration": 94,
    "start_time": "2021-12-28T05:26:37.172Z"
   },
   {
    "duration": 9,
    "start_time": "2021-12-28T05:26:37.268Z"
   },
   {
    "duration": 3189,
    "start_time": "2021-12-28T05:26:37.279Z"
   },
   {
    "duration": 158203,
    "start_time": "2021-12-28T05:26:40.563Z"
   },
   {
    "duration": 36110,
    "start_time": "2021-12-28T05:29:18.865Z"
   },
   {
    "duration": 636115,
    "start_time": "2021-12-28T05:29:55.063Z"
   },
   {
    "duration": 6,
    "start_time": "2021-12-28T05:40:31.181Z"
   },
   {
    "duration": 19,
    "start_time": "2021-12-28T05:40:31.189Z"
   },
   {
    "duration": 62980,
    "start_time": "2021-12-28T05:40:31.211Z"
   },
   {
    "duration": 1248,
    "start_time": "2021-12-28T05:41:34.193Z"
   },
   {
    "duration": 10,
    "start_time": "2021-12-28T05:43:02.041Z"
   },
   {
    "duration": 13,
    "start_time": "2021-12-28T05:43:03.928Z"
   },
   {
    "duration": 238,
    "start_time": "2021-12-28T05:43:06.627Z"
   }
  ],
  "kernelspec": {
   "display_name": "Python 3",
   "language": "python",
   "name": "python3"
  },
  "language_info": {
   "codemirror_mode": {
    "name": "ipython",
    "version": 3
   },
   "file_extension": ".py",
   "mimetype": "text/x-python",
   "name": "python",
   "nbconvert_exporter": "python",
   "pygments_lexer": "ipython3",
   "version": "3.8.8"
  },
  "toc": {
   "base_numbering": 1,
   "nav_menu": {},
   "number_sections": true,
   "sideBar": true,
   "skip_h1_title": true,
   "title_cell": "Содержание",
   "title_sidebar": "Contents",
   "toc_cell": true,
   "toc_position": {},
   "toc_section_display": true,
   "toc_window_display": true
  }
 },
 "nbformat": 4,
 "nbformat_minor": 2
}
